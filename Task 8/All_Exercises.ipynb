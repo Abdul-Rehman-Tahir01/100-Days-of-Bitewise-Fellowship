{
 "cells": [
  {
   "cell_type": "markdown",
   "metadata": {},
   "source": [
    "# All the imports used in the exercises "
   ]
  },
  {
   "cell_type": "code",
   "execution_count": 1,
   "metadata": {},
   "outputs": [],
   "source": [
    "import pandas as pd\n",
    "import numpy as np\n",
    "import matplotlib.pyplot as plt\n",
    "import seaborn as sns\n",
    "from scipy.stats import gaussian_kde   # For exercise 07\n",
    "import random as rd   # For exercise 08\n",
    "from scipy.stats import ttest_ind   # For exercise 09"
   ]
  },
  {
   "cell_type": "markdown",
   "metadata": {},
   "source": [
    "### Cleaning and Pre-processing the dataset for further use in exercises"
   ]
  },
  {
   "cell_type": "code",
   "execution_count": 2,
   "metadata": {},
   "outputs": [
    {
     "name": "stdout",
     "output_type": "stream",
     "text": [
      "(150, 6) \n",
      "\n"
     ]
    },
    {
     "data": {
      "text/html": [
       "<div>\n",
       "<style scoped>\n",
       "    .dataframe tbody tr th:only-of-type {\n",
       "        vertical-align: middle;\n",
       "    }\n",
       "\n",
       "    .dataframe tbody tr th {\n",
       "        vertical-align: top;\n",
       "    }\n",
       "\n",
       "    .dataframe thead th {\n",
       "        text-align: right;\n",
       "    }\n",
       "</style>\n",
       "<table border=\"1\" class=\"dataframe\">\n",
       "  <thead>\n",
       "    <tr style=\"text-align: right;\">\n",
       "      <th></th>\n",
       "      <th>Id</th>\n",
       "      <th>SepalLengthCm</th>\n",
       "      <th>SepalWidthCm</th>\n",
       "      <th>PetalLengthCm</th>\n",
       "      <th>PetalWidthCm</th>\n",
       "      <th>Species</th>\n",
       "    </tr>\n",
       "  </thead>\n",
       "  <tbody>\n",
       "    <tr>\n",
       "      <th>0</th>\n",
       "      <td>1</td>\n",
       "      <td>5.1</td>\n",
       "      <td>3.5</td>\n",
       "      <td>1.4</td>\n",
       "      <td>0.2</td>\n",
       "      <td>Iris-setosa</td>\n",
       "    </tr>\n",
       "    <tr>\n",
       "      <th>1</th>\n",
       "      <td>2</td>\n",
       "      <td>4.9</td>\n",
       "      <td>3.0</td>\n",
       "      <td>1.4</td>\n",
       "      <td>0.2</td>\n",
       "      <td>Iris-setosa</td>\n",
       "    </tr>\n",
       "    <tr>\n",
       "      <th>2</th>\n",
       "      <td>3</td>\n",
       "      <td>4.7</td>\n",
       "      <td>3.2</td>\n",
       "      <td>1.3</td>\n",
       "      <td>0.2</td>\n",
       "      <td>Iris-setosa</td>\n",
       "    </tr>\n",
       "    <tr>\n",
       "      <th>3</th>\n",
       "      <td>4</td>\n",
       "      <td>4.6</td>\n",
       "      <td>3.1</td>\n",
       "      <td>1.5</td>\n",
       "      <td>0.2</td>\n",
       "      <td>Iris-setosa</td>\n",
       "    </tr>\n",
       "    <tr>\n",
       "      <th>4</th>\n",
       "      <td>5</td>\n",
       "      <td>5.0</td>\n",
       "      <td>3.6</td>\n",
       "      <td>1.4</td>\n",
       "      <td>0.2</td>\n",
       "      <td>Iris-setosa</td>\n",
       "    </tr>\n",
       "  </tbody>\n",
       "</table>\n",
       "</div>"
      ],
      "text/plain": [
       "   Id  SepalLengthCm  SepalWidthCm  PetalLengthCm  PetalWidthCm      Species\n",
       "0   1            5.1           3.5            1.4           0.2  Iris-setosa\n",
       "1   2            4.9           3.0            1.4           0.2  Iris-setosa\n",
       "2   3            4.7           3.2            1.3           0.2  Iris-setosa\n",
       "3   4            4.6           3.1            1.5           0.2  Iris-setosa\n",
       "4   5            5.0           3.6            1.4           0.2  Iris-setosa"
      ]
     },
     "execution_count": 2,
     "metadata": {},
     "output_type": "execute_result"
    }
   ],
   "source": [
    "# Loading the iris dataset\n",
    "iris_dataset = pd.read_csv(\"Iris.csv\")\n",
    "\n",
    "# Displaying the shape and head of the dataset\n",
    "print(iris_dataset.shape, '\\n')\n",
    "iris_dataset.head()"
   ]
  },
  {
   "cell_type": "code",
   "execution_count": 3,
   "metadata": {},
   "outputs": [
    {
     "data": {
      "text/html": [
       "<div>\n",
       "<style scoped>\n",
       "    .dataframe tbody tr th:only-of-type {\n",
       "        vertical-align: middle;\n",
       "    }\n",
       "\n",
       "    .dataframe tbody tr th {\n",
       "        vertical-align: top;\n",
       "    }\n",
       "\n",
       "    .dataframe thead th {\n",
       "        text-align: right;\n",
       "    }\n",
       "</style>\n",
       "<table border=\"1\" class=\"dataframe\">\n",
       "  <thead>\n",
       "    <tr style=\"text-align: right;\">\n",
       "      <th></th>\n",
       "      <th>Id</th>\n",
       "      <th>SepalLengthCm</th>\n",
       "      <th>SepalWidthCm</th>\n",
       "      <th>PetalLengthCm</th>\n",
       "      <th>PetalWidthCm</th>\n",
       "      <th>Species</th>\n",
       "    </tr>\n",
       "  </thead>\n",
       "  <tbody>\n",
       "    <tr>\n",
       "      <th>145</th>\n",
       "      <td>146</td>\n",
       "      <td>6.7</td>\n",
       "      <td>3.0</td>\n",
       "      <td>5.2</td>\n",
       "      <td>2.3</td>\n",
       "      <td>Iris-virginica</td>\n",
       "    </tr>\n",
       "    <tr>\n",
       "      <th>146</th>\n",
       "      <td>147</td>\n",
       "      <td>6.3</td>\n",
       "      <td>2.5</td>\n",
       "      <td>5.0</td>\n",
       "      <td>1.9</td>\n",
       "      <td>Iris-virginica</td>\n",
       "    </tr>\n",
       "    <tr>\n",
       "      <th>147</th>\n",
       "      <td>148</td>\n",
       "      <td>6.5</td>\n",
       "      <td>3.0</td>\n",
       "      <td>5.2</td>\n",
       "      <td>2.0</td>\n",
       "      <td>Iris-virginica</td>\n",
       "    </tr>\n",
       "    <tr>\n",
       "      <th>148</th>\n",
       "      <td>149</td>\n",
       "      <td>6.2</td>\n",
       "      <td>3.4</td>\n",
       "      <td>5.4</td>\n",
       "      <td>2.3</td>\n",
       "      <td>Iris-virginica</td>\n",
       "    </tr>\n",
       "    <tr>\n",
       "      <th>149</th>\n",
       "      <td>150</td>\n",
       "      <td>5.9</td>\n",
       "      <td>3.0</td>\n",
       "      <td>5.1</td>\n",
       "      <td>1.8</td>\n",
       "      <td>Iris-virginica</td>\n",
       "    </tr>\n",
       "  </tbody>\n",
       "</table>\n",
       "</div>"
      ],
      "text/plain": [
       "      Id  SepalLengthCm  SepalWidthCm  PetalLengthCm  PetalWidthCm  \\\n",
       "145  146            6.7           3.0            5.2           2.3   \n",
       "146  147            6.3           2.5            5.0           1.9   \n",
       "147  148            6.5           3.0            5.2           2.0   \n",
       "148  149            6.2           3.4            5.4           2.3   \n",
       "149  150            5.9           3.0            5.1           1.8   \n",
       "\n",
       "            Species  \n",
       "145  Iris-virginica  \n",
       "146  Iris-virginica  \n",
       "147  Iris-virginica  \n",
       "148  Iris-virginica  \n",
       "149  Iris-virginica  "
      ]
     },
     "execution_count": 3,
     "metadata": {},
     "output_type": "execute_result"
    }
   ],
   "source": [
    "# Displaying the tail of dataset\n",
    "iris_dataset.tail()"
   ]
  },
  {
   "cell_type": "code",
   "execution_count": 4,
   "metadata": {},
   "outputs": [
    {
     "data": {
      "text/plain": [
       "Id               0\n",
       "SepalLengthCm    0\n",
       "SepalWidthCm     0\n",
       "PetalLengthCm    0\n",
       "PetalWidthCm     0\n",
       "Species          0\n",
       "dtype: int64"
      ]
     },
     "execution_count": 4,
     "metadata": {},
     "output_type": "execute_result"
    }
   ],
   "source": [
    "# Checking for the missing values\n",
    "iris_dataset.isnull().sum()"
   ]
  },
  {
   "cell_type": "markdown",
   "metadata": {},
   "source": [
    "<p> -> Since, there are no missing values in the dataset, we can proceed with the exercises.</p>\n",
    "<hr>"
   ]
  },
  {
   "cell_type": "markdown",
   "metadata": {},
   "source": [
    "\n",
    "### -> Exercise 1: Calculate the mean, median, and mode of the sepal lengths in the Iris dataset."
   ]
  },
  {
   "cell_type": "code",
   "execution_count": 5,
   "metadata": {},
   "outputs": [
    {
     "name": "stdout",
     "output_type": "stream",
     "text": [
      "Mean of Sepal Lengths: 5.84\n",
      "Median of Sepal Lengths: 5.8\n",
      "Mode of Sepal Lengths: 5.0\n"
     ]
    }
   ],
   "source": [
    "# Calculating mean, median and mode of sepal lengths in the dataset\n",
    "sepal_length_mean = iris_dataset['SepalLengthCm'].mean()\n",
    "sepal_length_median = iris_dataset['SepalLengthCm'].median()\n",
    "sepal_length_mode = iris_dataset['SepalLengthCm'].mode()[0]  # To get one value of mode \n",
    "\n",
    "print(f\"Mean of Sepal Lengths: {sepal_length_mean:.2f}\")\n",
    "print(\"Median of Sepal Lengths:\", sepal_length_median)\n",
    "print(\"Mode of Sepal Lengths:\", sepal_length_mode)"
   ]
  },
  {
   "cell_type": "markdown",
   "metadata": {},
   "source": [
    "\n",
    "### -> Exercise 2: Calculate the variance and standard deviation of the petal widths in the Iris dataset."
   ]
  },
  {
   "cell_type": "code",
   "execution_count": 6,
   "metadata": {},
   "outputs": [
    {
     "name": "stdout",
     "output_type": "stream",
     "text": [
      "Variance of Petal Widths: 0.58\n",
      "Standard deviation of Petal Widths: 0.76\n"
     ]
    }
   ],
   "source": [
    "# Calculating variance and standard deviation of petal widths in the dataset\n",
    "petal_width_variance = iris_dataset['PetalWidthCm'].var()\n",
    "petal_width_std = iris_dataset['PetalWidthCm'].std()\n",
    "\n",
    "print(f\"Variance of Petal Widths: {petal_width_variance:.2f}\")\n",
    "print(f\"Standard deviation of Petal Widths: {petal_width_std:.2f}\")"
   ]
  },
  {
   "cell_type": "markdown",
   "metadata": {},
   "source": [
    "-> We can also calculate the standard deviation by taking square root of the variance."
   ]
  },
  {
   "cell_type": "markdown",
   "metadata": {},
   "source": [
    "\n",
    "### -> Exercise 3: Create a summary table that includes the mean, median, variance, and standard deviation for all numerical features in the dataset."
   ]
  },
  {
   "cell_type": "code",
   "execution_count": 7,
   "metadata": {},
   "outputs": [
    {
     "data": {
      "text/html": [
       "<div>\n",
       "<style scoped>\n",
       "    .dataframe tbody tr th:only-of-type {\n",
       "        vertical-align: middle;\n",
       "    }\n",
       "\n",
       "    .dataframe tbody tr th {\n",
       "        vertical-align: top;\n",
       "    }\n",
       "\n",
       "    .dataframe thead th {\n",
       "        text-align: right;\n",
       "    }\n",
       "</style>\n",
       "<table border=\"1\" class=\"dataframe\">\n",
       "  <thead>\n",
       "    <tr style=\"text-align: right;\">\n",
       "      <th></th>\n",
       "      <th>Mean</th>\n",
       "      <th>Median</th>\n",
       "      <th>Mode</th>\n",
       "      <th>Standard Deviation</th>\n",
       "      <th>Variance</th>\n",
       "    </tr>\n",
       "  </thead>\n",
       "  <tbody>\n",
       "    <tr>\n",
       "      <th>SepalLengthCm</th>\n",
       "      <td>5.843333</td>\n",
       "      <td>5.80</td>\n",
       "      <td>5.0</td>\n",
       "      <td>0.828066</td>\n",
       "      <td>0.685694</td>\n",
       "    </tr>\n",
       "    <tr>\n",
       "      <th>SepalWidthCm</th>\n",
       "      <td>3.054000</td>\n",
       "      <td>3.00</td>\n",
       "      <td>3.0</td>\n",
       "      <td>0.433594</td>\n",
       "      <td>0.188004</td>\n",
       "    </tr>\n",
       "    <tr>\n",
       "      <th>PetalLengthCm</th>\n",
       "      <td>3.758667</td>\n",
       "      <td>4.35</td>\n",
       "      <td>1.5</td>\n",
       "      <td>1.764420</td>\n",
       "      <td>3.113179</td>\n",
       "    </tr>\n",
       "    <tr>\n",
       "      <th>PetalWidthCm</th>\n",
       "      <td>1.198667</td>\n",
       "      <td>1.30</td>\n",
       "      <td>0.2</td>\n",
       "      <td>0.763161</td>\n",
       "      <td>0.582414</td>\n",
       "    </tr>\n",
       "  </tbody>\n",
       "</table>\n",
       "</div>"
      ],
      "text/plain": [
       "                   Mean  Median  Mode  Standard Deviation  Variance\n",
       "SepalLengthCm  5.843333    5.80   5.0            0.828066  0.685694\n",
       "SepalWidthCm   3.054000    3.00   3.0            0.433594  0.188004\n",
       "PetalLengthCm  3.758667    4.35   1.5            1.764420  3.113179\n",
       "PetalWidthCm   1.198667    1.30   0.2            0.763161  0.582414"
      ]
     },
     "execution_count": 7,
     "metadata": {},
     "output_type": "execute_result"
    }
   ],
   "source": [
    "# Removing id from the dataset since it is of no use\n",
    "iris_dataset.drop('Id', axis=1, inplace=True)\n",
    "\n",
    "# Creating summary table for mean, median, mode, variance and standard deviation for all features\n",
    "summary_table = iris_dataset.describe().transpose()\n",
    "summary_table['variance'] = iris_dataset.drop('Species', axis=1).var()   # Since can't measure variance of species\n",
    "summary_table['mode'] = iris_dataset.drop('Species', axis=1).mode().iloc[0]  # Since mode returns a series\n",
    "summary_table = summary_table[['mean', '50%', 'mode', 'std', 'variance']]\n",
    "summary_table.columns = ['Mean', 'Median', 'Mode', 'Standard Deviation', 'Variance']\n",
    "summary_table"
   ]
  },
  {
   "cell_type": "markdown",
   "metadata": {},
   "source": [
    "\n",
    "### -> Exercise 4: Define a random variable for the sepal length and calculate the probability distribution of sepal lengths."
   ]
  },
  {
   "cell_type": "code",
   "execution_count": 8,
   "metadata": {},
   "outputs": [
    {
     "name": "stdout",
     "output_type": "stream",
     "text": [
      "Frequency: [1, 3, 1, 4, 2, 5, 6, 10, 9, 4, 1, 6, 7, 6, 8, 7, 3, 6, 6, 4, 9, 7, 5, 2, 8, 3, 4, 1, 1, 3, 1, 1, 1, 4, 1]\n",
      "True\n"
     ]
    },
    {
     "data": {
      "text/html": [
       "<div>\n",
       "<style scoped>\n",
       "    .dataframe tbody tr th:only-of-type {\n",
       "        vertical-align: middle;\n",
       "    }\n",
       "\n",
       "    .dataframe tbody tr th {\n",
       "        vertical-align: top;\n",
       "    }\n",
       "\n",
       "    .dataframe thead th {\n",
       "        text-align: right;\n",
       "    }\n",
       "</style>\n",
       "<table border=\"1\" class=\"dataframe\">\n",
       "  <thead>\n",
       "    <tr style=\"text-align: right;\">\n",
       "      <th></th>\n",
       "      <th>Frequency</th>\n",
       "      <th>Probability</th>\n",
       "    </tr>\n",
       "    <tr>\n",
       "      <th>SepalLengthCm</th>\n",
       "      <th></th>\n",
       "      <th></th>\n",
       "    </tr>\n",
       "  </thead>\n",
       "  <tbody>\n",
       "    <tr>\n",
       "      <th>4.3</th>\n",
       "      <td>1</td>\n",
       "      <td>0.006667</td>\n",
       "    </tr>\n",
       "    <tr>\n",
       "      <th>4.4</th>\n",
       "      <td>3</td>\n",
       "      <td>0.020000</td>\n",
       "    </tr>\n",
       "    <tr>\n",
       "      <th>4.5</th>\n",
       "      <td>1</td>\n",
       "      <td>0.006667</td>\n",
       "    </tr>\n",
       "    <tr>\n",
       "      <th>4.6</th>\n",
       "      <td>4</td>\n",
       "      <td>0.026667</td>\n",
       "    </tr>\n",
       "    <tr>\n",
       "      <th>4.7</th>\n",
       "      <td>2</td>\n",
       "      <td>0.013333</td>\n",
       "    </tr>\n",
       "    <tr>\n",
       "      <th>4.8</th>\n",
       "      <td>5</td>\n",
       "      <td>0.033333</td>\n",
       "    </tr>\n",
       "    <tr>\n",
       "      <th>4.9</th>\n",
       "      <td>6</td>\n",
       "      <td>0.040000</td>\n",
       "    </tr>\n",
       "    <tr>\n",
       "      <th>5.0</th>\n",
       "      <td>10</td>\n",
       "      <td>0.066667</td>\n",
       "    </tr>\n",
       "    <tr>\n",
       "      <th>5.1</th>\n",
       "      <td>9</td>\n",
       "      <td>0.060000</td>\n",
       "    </tr>\n",
       "    <tr>\n",
       "      <th>5.2</th>\n",
       "      <td>4</td>\n",
       "      <td>0.026667</td>\n",
       "    </tr>\n",
       "  </tbody>\n",
       "</table>\n",
       "</div>"
      ],
      "text/plain": [
       "               Frequency  Probability\n",
       "SepalLengthCm                        \n",
       "4.3                    1     0.006667\n",
       "4.4                    3     0.020000\n",
       "4.5                    1     0.006667\n",
       "4.6                    4     0.026667\n",
       "4.7                    2     0.013333\n",
       "4.8                    5     0.033333\n",
       "4.9                    6     0.040000\n",
       "5.0                   10     0.066667\n",
       "5.1                    9     0.060000\n",
       "5.2                    4     0.026667"
      ]
     },
     "execution_count": 8,
     "metadata": {},
     "output_type": "execute_result"
    }
   ],
   "source": [
    "# Defining a random variable for sepal length \n",
    "sepal_length = iris_dataset['SepalLengthCm']\n",
    "\n",
    "# Calculating probability distribution of sepal lengths\n",
    "probability_distribution = sepal_length.value_counts(normalize=True).sort_index()\n",
    "frequency_distribution = sepal_length.value_counts().sort_index()\n",
    "\n",
    "# Printing frequency distribution\n",
    "print('Frequency:', list(frequency_distribution))\n",
    "\n",
    "# Checking if the sum of frequency distribution is equal to the number of rows in the dataset\n",
    "print(sum(frequency_distribution) == iris_dataset.shape[0])\n",
    "\n",
    "# Creating a distribution table for sepal lengths\n",
    "distribution_table = pd.DataFrame({\"Frequency\":frequency_distribution, \"Probability\":probability_distribution})\n",
    "distribution_table.head(10)"
   ]
  },
  {
   "cell_type": "markdown",
   "metadata": {},
   "source": [
    "\n",
    "### -> Exercise 5: Plot the probability distribution of sepal lengths using a histogram."
   ]
  },
  {
   "cell_type": "code",
   "execution_count": 9,
   "metadata": {},
   "outputs": [
    {
     "data": {
      "image/png": "[encoded data removed]",
      "text/plain": [
       "<Figure size 1000x600 with 1 Axes>"
      ]
     },
     "metadata": {},
     "output_type": "display_data"
    }
   ],
   "source": [
    "# Probability Distribution Histogram of Sepal lengths\n",
    "plt.figure(figsize=(10, 6), facecolor='lightgray')\n",
    "sns.histplot(sepal_length, kde=True, bins = 20, color='blue', zorder=2)\n",
    "plt.xlabel('Sepal Length (cm)')\n",
    "plt.ylabel('Probability')\n",
    "plt.title('Probability Distribution of Sepal Lengths')\n",
    "plt.grid(True, zorder=1)\n",
    "plt.show()"
   ]
  },
  {
   "cell_type": "markdown",
   "metadata": {},
   "source": [
    "\n",
    "### -> Exercise 6: Calculate the cumulative distribution function (CDF) for the petal lengths and plot it."
   ]
  },
  {
   "cell_type": "code",
   "execution_count": 10,
   "metadata": {},
   "outputs": [
    {
     "name": "stdout",
     "output_type": "stream",
     "text": [
      "Frequency: [1, 1, 2, 7, 12, 14, 7, 4, 2, 1, 2, 2, 1, 1, 1, 3, 5, 3, 4, 2, 4, 8, 3, 5, 4, 5, 4, 8, 2, 2, 2, 3, 6, 3, 3, 2, 2, 3, 1, 1, 1, 2, 1]\n",
      "True\n"
     ]
    },
    {
     "data": {
      "text/html": [
       "<div>\n",
       "<style scoped>\n",
       "    .dataframe tbody tr th:only-of-type {\n",
       "        vertical-align: middle;\n",
       "    }\n",
       "\n",
       "    .dataframe tbody tr th {\n",
       "        vertical-align: top;\n",
       "    }\n",
       "\n",
       "    .dataframe thead th {\n",
       "        text-align: right;\n",
       "    }\n",
       "</style>\n",
       "<table border=\"1\" class=\"dataframe\">\n",
       "  <thead>\n",
       "    <tr style=\"text-align: right;\">\n",
       "      <th></th>\n",
       "      <th>Frequency</th>\n",
       "      <th>Probability</th>\n",
       "      <th>CDF</th>\n",
       "    </tr>\n",
       "    <tr>\n",
       "      <th>PetalLengthCm</th>\n",
       "      <th></th>\n",
       "      <th></th>\n",
       "      <th></th>\n",
       "    </tr>\n",
       "  </thead>\n",
       "  <tbody>\n",
       "    <tr>\n",
       "      <th>1.0</th>\n",
       "      <td>1</td>\n",
       "      <td>0.006667</td>\n",
       "      <td>0.006667</td>\n",
       "    </tr>\n",
       "    <tr>\n",
       "      <th>1.1</th>\n",
       "      <td>1</td>\n",
       "      <td>0.006667</td>\n",
       "      <td>0.013333</td>\n",
       "    </tr>\n",
       "    <tr>\n",
       "      <th>1.2</th>\n",
       "      <td>2</td>\n",
       "      <td>0.013333</td>\n",
       "      <td>0.026667</td>\n",
       "    </tr>\n",
       "    <tr>\n",
       "      <th>1.3</th>\n",
       "      <td>7</td>\n",
       "      <td>0.046667</td>\n",
       "      <td>0.073333</td>\n",
       "    </tr>\n",
       "    <tr>\n",
       "      <th>1.4</th>\n",
       "      <td>12</td>\n",
       "      <td>0.080000</td>\n",
       "      <td>0.153333</td>\n",
       "    </tr>\n",
       "    <tr>\n",
       "      <th>1.5</th>\n",
       "      <td>14</td>\n",
       "      <td>0.093333</td>\n",
       "      <td>0.246667</td>\n",
       "    </tr>\n",
       "    <tr>\n",
       "      <th>1.6</th>\n",
       "      <td>7</td>\n",
       "      <td>0.046667</td>\n",
       "      <td>0.293333</td>\n",
       "    </tr>\n",
       "    <tr>\n",
       "      <th>1.7</th>\n",
       "      <td>4</td>\n",
       "      <td>0.026667</td>\n",
       "      <td>0.320000</td>\n",
       "    </tr>\n",
       "    <tr>\n",
       "      <th>1.9</th>\n",
       "      <td>2</td>\n",
       "      <td>0.013333</td>\n",
       "      <td>0.333333</td>\n",
       "    </tr>\n",
       "    <tr>\n",
       "      <th>3.0</th>\n",
       "      <td>1</td>\n",
       "      <td>0.006667</td>\n",
       "      <td>0.340000</td>\n",
       "    </tr>\n",
       "  </tbody>\n",
       "</table>\n",
       "</div>"
      ],
      "text/plain": [
       "               Frequency  Probability       CDF\n",
       "PetalLengthCm                                  \n",
       "1.0                    1     0.006667  0.006667\n",
       "1.1                    1     0.006667  0.013333\n",
       "1.2                    2     0.013333  0.026667\n",
       "1.3                    7     0.046667  0.073333\n",
       "1.4                   12     0.080000  0.153333\n",
       "1.5                   14     0.093333  0.246667\n",
       "1.6                    7     0.046667  0.293333\n",
       "1.7                    4     0.026667  0.320000\n",
       "1.9                    2     0.013333  0.333333\n",
       "3.0                    1     0.006667  0.340000"
      ]
     },
     "execution_count": 10,
     "metadata": {},
     "output_type": "execute_result"
    }
   ],
   "source": [
    "# Defining a random variable for petal lengths\n",
    "petal_length = iris_dataset['PetalLengthCm']\n",
    "\n",
    "# Calculating CDF for petal lengths\n",
    "probability_distribution = petal_length.value_counts(normalize=True).sort_index()\n",
    "frequency_distribution = petal_length.value_counts().sort_index()\n",
    "cdf = np.cumsum(probability_distribution)\n",
    "\n",
    "# Printing frequency distribution\n",
    "print('Frequency:', list(frequency_distribution))\n",
    "\n",
    "# Checking if the sum of frequency distribution is equal to the number of rows in the dataset\n",
    "print(sum(frequency_distribution) == iris_dataset.shape[0])\n",
    "\n",
    "# Creating a distribution table for petal lengths\n",
    "distribution_table = pd.DataFrame({\"Frequency\":frequency_distribution, \"Probability\":probability_distribution, \"CDF\":cdf})\n",
    "distribution_table.head(10)"
   ]
  },
  {
   "cell_type": "code",
   "execution_count": 11,
   "metadata": {},
   "outputs": [
    {
     "data": {
      "image/png": "[encoded data removed]",
      "text/plain": [
       "<Figure size 1000x600 with 1 Axes>"
      ]
     },
     "metadata": {},
     "output_type": "display_data"
    }
   ],
   "source": [
    "# Plotting the CDF\n",
    "plt.figure(figsize=(10, 6), facecolor='lightgray')\n",
    "plt.plot(cdf.index, cdf, marker='o', zorder=2)\n",
    "plt.xlabel('Petal Length (cm)')\n",
    "plt.ylabel('CDF')\n",
    "plt.title('Cumulative Distribution Function (CDF) for Petal Lengths')\n",
    "plt.grid(True, zorder=1)\n",
    "plt.show()"
   ]
  },
  {
   "cell_type": "markdown",
   "metadata": {},
   "source": [
    "\n",
    "### -> Exercise 7: Calculate and plot the probability density function (PDF) for sepal width."
   ]
  },
  {
   "cell_type": "code",
   "execution_count": 12,
   "metadata": {},
   "outputs": [
    {
     "data": {
      "text/html": [
       "<div>\n",
       "<style scoped>\n",
       "    .dataframe tbody tr th:only-of-type {\n",
       "        vertical-align: middle;\n",
       "    }\n",
       "\n",
       "    .dataframe tbody tr th {\n",
       "        vertical-align: top;\n",
       "    }\n",
       "\n",
       "    .dataframe thead th {\n",
       "        text-align: right;\n",
       "    }\n",
       "</style>\n",
       "<table border=\"1\" class=\"dataframe\">\n",
       "  <thead>\n",
       "    <tr style=\"text-align: right;\">\n",
       "      <th></th>\n",
       "      <th>PDF</th>\n",
       "    </tr>\n",
       "  </thead>\n",
       "  <tbody>\n",
       "    <tr>\n",
       "      <th>0</th>\n",
       "      <td>0.053960</td>\n",
       "    </tr>\n",
       "    <tr>\n",
       "      <th>1</th>\n",
       "      <td>0.063431</td>\n",
       "    </tr>\n",
       "    <tr>\n",
       "      <th>2</th>\n",
       "      <td>0.074008</td>\n",
       "    </tr>\n",
       "    <tr>\n",
       "      <th>3</th>\n",
       "      <td>0.085694</td>\n",
       "    </tr>\n",
       "    <tr>\n",
       "      <th>4</th>\n",
       "      <td>0.098460</td>\n",
       "    </tr>\n",
       "    <tr>\n",
       "      <th>...</th>\n",
       "      <td>...</td>\n",
       "    </tr>\n",
       "    <tr>\n",
       "      <th>95</th>\n",
       "      <td>0.039642</td>\n",
       "    </tr>\n",
       "    <tr>\n",
       "      <th>96</th>\n",
       "      <td>0.036586</td>\n",
       "    </tr>\n",
       "    <tr>\n",
       "      <th>97</th>\n",
       "      <td>0.033685</td>\n",
       "    </tr>\n",
       "    <tr>\n",
       "      <th>98</th>\n",
       "      <td>0.030889</td>\n",
       "    </tr>\n",
       "    <tr>\n",
       "      <th>99</th>\n",
       "      <td>0.028162</td>\n",
       "    </tr>\n",
       "  </tbody>\n",
       "</table>\n",
       "<p>100 rows × 1 columns</p>\n",
       "</div>"
      ],
      "text/plain": [
       "         PDF\n",
       "0   0.053960\n",
       "1   0.063431\n",
       "2   0.074008\n",
       "3   0.085694\n",
       "4   0.098460\n",
       "..       ...\n",
       "95  0.039642\n",
       "96  0.036586\n",
       "97  0.033685\n",
       "98  0.030889\n",
       "99  0.028162\n",
       "\n",
       "[100 rows x 1 columns]"
      ]
     },
     "execution_count": 12,
     "metadata": {},
     "output_type": "execute_result"
    }
   ],
   "source": [
    "# Defining a random variable for sepal widhts\n",
    "sepal_width = iris_dataset['SepalWidthCm']\n",
    "\n",
    "# Calculating the probability density function (PDF)\n",
    "kde = gaussian_kde(sepal_width)   # Fit KDE\n",
    "points = np.linspace(min(sepal_width), max(sepal_width), 100)   # Define points where you want to evaluate the KDE\n",
    "pdf = kde(points)   # Evaluate KDE for these points\n",
    "\n",
    "# Creating dataframe for pdf\n",
    "df_pdf = pd.DataFrame({\"PDF\":pdf})\n",
    "df_pdf"
   ]
  },
  {
   "cell_type": "code",
   "execution_count": 13,
   "metadata": {},
   "outputs": [
    {
     "data": {
      "image/png": "[encoded data removed]",
      "text/plain": [
       "<Figure size 1000x600 with 1 Axes>"
      ]
     },
     "metadata": {},
     "output_type": "display_data"
    }
   ],
   "source": [
    "# Plotting the PDF\n",
    "plt.figure(figsize=(10, 6), facecolor='lightgray')\n",
    "sns.kdeplot(sepal_width, fill=True, label='PDF')\n",
    "plt.xlabel('Sepal Width (cm)')\n",
    "plt.ylabel('Probability Density')\n",
    "plt.title('Probability Density Function (PDF) for Sepal Widths')\n",
    "plt.legend()\n",
    "plt.grid(True)\n",
    "plt.show()"
   ]
  },
  {
   "cell_type": "markdown",
   "metadata": {},
   "source": [
    "-> Here, the KDE graph shows that the 3.0 cm sepal width has the highest probability while the probability of getting below 2.0 cm or above 4.5 cm is fairly low."
   ]
  },
  {
   "cell_type": "markdown",
   "metadata": {},
   "source": [
    "\n",
    "### -> Exercise 8: Determine the probability of a randomly selected iris flower having a petal length greater than a given value."
   ]
  },
  {
   "cell_type": "code",
   "execution_count": 14,
   "metadata": {},
   "outputs": [
    {
     "name": "stdout",
     "output_type": "stream",
     "text": [
      "        PDF\n",
      "0  0.156268\n",
      "1  0.176828\n",
      "2  0.191518\n",
      "3  0.198578\n",
      "4  0.197186\n",
      "5  0.187648\n",
      "6  0.171359\n",
      "7  0.150535\n",
      "8  0.127808\n",
      "9  0.105783\n",
      "               Frequency  Probability       CDF\n",
      "PetalLengthCm                                  \n",
      "1.0                    1     0.006667  0.006667\n",
      "1.1                    1     0.006667  0.013333\n",
      "1.2                    2     0.013333  0.026667\n",
      "1.3                    7     0.046667  0.073333\n",
      "1.4                   12     0.080000  0.153333\n",
      "1.5                   14     0.093333  0.246667\n",
      "1.6                    7     0.046667  0.293333\n",
      "1.7                    4     0.026667  0.320000\n",
      "1.9                    2     0.013333  0.333333\n",
      "3.0                    1     0.006667  0.340000\n"
     ]
    }
   ],
   "source": [
    "# Finding PDF for the petal lengths\n",
    "kde = gaussian_kde(petal_length)\n",
    "points = np.linspace(min(petal_length), max(petal_length), 43)\n",
    "pdf = kde(points)\n",
    "\n",
    "df_pdf = pd.DataFrame({\"PDF\":pdf})\n",
    "print(df_pdf.head(10))\n",
    "\n",
    "# Printing the CDF table for petal lengths\n",
    "print(distribution_table.head(10))\n"
   ]
  },
  {
   "cell_type": "code",
   "execution_count": 15,
   "metadata": {},
   "outputs": [
    {
     "name": "stdout",
     "output_type": "stream",
     "text": [
      "Probability of Iris flower of petal length > 4.40 cm: 0.33378065588151706\n"
     ]
    }
   ],
   "source": [
    "# Randomly selecting a given value\n",
    "given_value = rd.uniform(petal_length.min(), petal_length.max())\n",
    "\n",
    "# Find the probability of a petal length greater than the given value\n",
    "cdf_given_value = np.interp(given_value, points, cdf)\n",
    "prob_greater_than_value = 1 - cdf_given_value\n",
    "\n",
    "print(f\"Probability of Iris flower of petal length > {given_value:.2f} cm: {prob_greater_than_value}\")"
   ]
  },
  {
   "cell_type": "markdown",
   "metadata": {},
   "source": [
    "\n",
    "### -> Exercise 9: Perform a hypothesis test to determine if there is a significant difference in the mean petal length between two species of iris flowers."
   ]
  },
  {
   "cell_type": "code",
   "execution_count": 16,
   "metadata": {},
   "outputs": [
    {
     "name": "stdout",
     "output_type": "stream",
     "text": [
      "T-statistic: -12.60\n",
      "P-value: 0.00\n",
      "Reject the null hypothesis: There is a significant difference in mean petal length between 'versicolor' and 'virginica'.\n"
     ]
    }
   ],
   "source": [
    "# Extracting petal lengths for two species: 'versicolor' and 'virginica'\n",
    "versicolor_petal_length = iris_dataset[iris_dataset['Species'] == 'Iris-versicolor']['PetalLengthCm']\n",
    "virginica_petal_length = iris_dataset[iris_dataset['Species'] == 'Iris-virginica']['PetalLengthCm']\n",
    "\n",
    "# Perform a two-sample t-test\n",
    "t_stat, p_value = ttest_ind(versicolor_petal_length, virginica_petal_length)\n",
    "\n",
    "print(f\"T-statistic: {t_stat:.2f}\")\n",
    "print(f\"P-value: {p_value:.2f}\")\n",
    "\n",
    "# Interpreting the result\n",
    "alpha = 0.05  # Significance level\n",
    "if p_value < alpha:\n",
    "    print(\"Reject the null hypothesis: There is a significant difference in mean petal length between 'versicolor' and 'virginica'.\" )\n",
    "else:\n",
    "    print(\"Fail to reject the null hypothesis: There is no significant difference in mean petal length between 'versicolor' and 'virginica'.\")"
   ]
  },
  {
   "cell_type": "markdown",
   "metadata": {},
   "source": [
    "<h3>T-statistic:</h3> \n",
    "<p>The t-statistic measures the difference between the sample means relative to the variability in the samples.</p>\n",
    "<p>In this case, t_stat = -12.6 indicates a large negative value, suggesting that the mean petal length of 'versicolor' is significantly lower than the mean petal length of 'virginica'.</p>\n",
    "\n",
    "<h3>P-value:</h3> \n",
    "<p>The p-value is the probability of observing the data assuming the null hypothesis is true. <br>\n",
    "The p-value of 0 indicates that the probability of observing such a large difference in means by random chance, assuming no actual difference exists, is essentially zero.</p>\n",
    "\n",
    "<h3>Significance Level:</h3> \n",
    "<p>The significance level is the threshold for determining whether the p-value is low enough to reject the null hypothesis. A common choice is 0.05, which corresponds to a 5% risk of concluding that a difference exists when there is no actual difference.</p>\n",
    "\n",
    "<h3>Hypothesis Interpretation:</h3>\n",
    "<p><b>Null Hypothesis (H₀):</b> The mean petal length of 'versicolor' is equal to the mean petal length of 'virginica'.<br>\n",
    "<b>Alternative Hypothesis (H₁):</b> The mean petal length of 'versicolor' is different from the mean petal length of 'virginica'.</p>\n",
    "\n",
    "<h3>Conclusion Based on the Results:</h3>\n",
    "<p><b>Since the p-value (p_value = 0) is less than the significance level (α = 0.05):</b><br>\n",
    "Reject the null hypothesis: There is strong evidence to conclude that there is a significant difference in mean petal length between 'versicolor' and 'virginica'.<br>\n",
    "Specifically, the negative t-statistic (t_stat = -12.6) suggests that the mean petal length of 'versicolor' is significantly lower than that of 'virginica'. </p>\n",
    "<p><b>--> So, the Alternative Hypothesis (H1) is supported for the given data.</b></p>"
   ]
  },
  {
   "cell_type": "markdown",
   "metadata": {},
   "source": [
    "\n",
    "### -> Exercise 10: Calculate and interpret the covariance and correlation between sepal length and sepal width."
   ]
  },
  {
   "cell_type": "code",
   "execution_count": 17,
   "metadata": {},
   "outputs": [
    {
     "name": "stdout",
     "output_type": "stream",
     "text": [
      "Covariance: -0.04\n",
      "The sepal length and sepal width have negative covariance.\n"
     ]
    }
   ],
   "source": [
    "# Calculating the covariance between sepal length and sepal width\n",
    "covariance = iris_dataset['SepalLengthCm'].cov(iris_dataset['SepalWidthCm'])\n",
    "print(f\"Covariance: {covariance:.2f}\")\n",
    "\n",
    "# Interpreting the covariance\n",
    "if covariance > 0:\n",
    "    relation = 'positive'\n",
    "elif covariance < 0:\n",
    "    relation = 'negative'\n",
    "else:\n",
    "    relation = 'no'\n",
    "\n",
    "print(f\"The sepal length and sepal width have {relation} covariance.\")"
   ]
  },
  {
   "cell_type": "markdown",
   "metadata": {},
   "source": [
    "<h3>Covariance:</h3>\n",
    "<p><b>Covariance</b> measures the degree to which two variables change together.</p>\n",
    "<p>A <b>positive covariance</b> indicates that as one variable increases, the other variable tends to increase. <br>\n",
    "A <b>negative covariance</b> indicates that as one variable increases, the other variable tends to decrease.</p>"
   ]
  },
  {
   "cell_type": "code",
   "execution_count": 18,
   "metadata": {},
   "outputs": [
    {
     "name": "stdout",
     "output_type": "stream",
     "text": [
      "Correlation: -0.11\n",
      "The sepal length and sepal width have negative correlation.\n"
     ]
    }
   ],
   "source": [
    "# Calculating the correlation between sepal length and sepal width\n",
    "correlation = iris_dataset['SepalLengthCm'].corr(iris_dataset['SepalWidthCm'])\n",
    "print(f\"Correlation: {correlation:.2f}\")\n",
    "\n",
    "# Interpreting the correlation\n",
    "if correlation > 0:\n",
    "    relation = 'positive'\n",
    "elif correlation < 0:\n",
    "    relation = 'negative'\n",
    "else:\n",
    "    relation = 'no'\n",
    "\n",
    "print(f\"The sepal length and sepal width have {relation} correlation.\")\n"
   ]
  },
  {
   "cell_type": "markdown",
   "metadata": {},
   "source": [
    "<h3>Correlation:</h3>\n",
    "<p>The <b>correlation coefficient</b> measures the strength and direction of the linear relationship between two variables.</p>\n",
    "<p>It ranges from -1 to 1: <br>\n",
    "<ul>\n",
    "<li><b>1</b> indicates a perfect positive linear relationship. <br></li>\n",
    "<li><b>-1</b> indicates a perfect negative linear relationship. <br></li>\n",
    "<li><b>0</b> indicates no linear relationship.</p></li>\n",
    "</ul>\n",
    "<p>The correlation coefficient is standardized, making it easier to interpret compared to covariance.</p>"
   ]
  }
 ],
 "metadata": {
  "kernelspec": {
   "display_name": "Python 3",
   "language": "python",
   "name": "python3"
  },
  "language_info": {
   "codemirror_mode": {
    "name": "ipython",
    "version": 3
   },
   "file_extension": ".py",
   "mimetype": "text/x-python",
   "name": "python",
   "nbconvert_exporter": "python",
   "pygments_lexer": "ipython3",
   "version": "3.12.3"
  }
 },
 "nbformat": 4,
 "nbformat_minor": 2
}
