{
 "cells": [
  {
   "cell_type": "code",
   "execution_count": 2,
   "metadata": {},
   "outputs": [],
   "source": [
    "# Importing Libraries\n",
    "import pandas as pd\n",
    "import numpy as np\n",
    "import matplotlib.pyplot as plt\n",
    "from sklearn.preprocessing import LabelEncoder, StandardScaler\n",
    "from imblearn.over_sampling import SMOTE\n",
    "from sklearn.model_selection import train_test_split, cross_val_score\n",
    "from sklearn.linear_model import LogisticRegression\n",
    "from sklearn.tree import DecisionTreeClassifier\n",
    "from sklearn.metrics import accuracy_score, precision_score, recall_score, f1_score, roc_curve, roc_auc_score"
   ]
  },
  {
   "cell_type": "code",
   "execution_count": 3,
   "metadata": {},
   "outputs": [
    {
     "name": "stdout",
     "output_type": "stream",
     "text": [
      "(891, 12) \n",
      "\n"
     ]
    },
    {
     "data": {
      "text/html": [
       "<div>\n",
       "<style scoped>\n",
       "    .dataframe tbody tr th:only-of-type {\n",
       "        vertical-align: middle;\n",
       "    }\n",
       "\n",
       "    .dataframe tbody tr th {\n",
       "        vertical-align: top;\n",
       "    }\n",
       "\n",
       "    .dataframe thead th {\n",
       "        text-align: right;\n",
       "    }\n",
       "</style>\n",
       "<table border=\"1\" class=\"dataframe\">\n",
       "  <thead>\n",
       "    <tr style=\"text-align: right;\">\n",
       "      <th></th>\n",
       "      <th>PassengerId</th>\n",
       "      <th>Survived</th>\n",
       "      <th>Pclass</th>\n",
       "      <th>Name</th>\n",
       "      <th>Sex</th>\n",
       "      <th>Age</th>\n",
       "      <th>SibSp</th>\n",
       "      <th>Parch</th>\n",
       "      <th>Ticket</th>\n",
       "      <th>Fare</th>\n",
       "      <th>Cabin</th>\n",
       "      <th>Embarked</th>\n",
       "    </tr>\n",
       "  </thead>\n",
       "  <tbody>\n",
       "    <tr>\n",
       "      <th>0</th>\n",
       "      <td>1</td>\n",
       "      <td>0</td>\n",
       "      <td>3</td>\n",
       "      <td>Braund, Mr. Owen Harris</td>\n",
       "      <td>male</td>\n",
       "      <td>22.0</td>\n",
       "      <td>1</td>\n",
       "      <td>0</td>\n",
       "      <td>A/5 21171</td>\n",
       "      <td>7.2500</td>\n",
       "      <td>NaN</td>\n",
       "      <td>S</td>\n",
       "    </tr>\n",
       "    <tr>\n",
       "      <th>1</th>\n",
       "      <td>2</td>\n",
       "      <td>1</td>\n",
       "      <td>1</td>\n",
       "      <td>Cumings, Mrs. John Bradley (Florence Briggs Th...</td>\n",
       "      <td>female</td>\n",
       "      <td>38.0</td>\n",
       "      <td>1</td>\n",
       "      <td>0</td>\n",
       "      <td>PC 17599</td>\n",
       "      <td>71.2833</td>\n",
       "      <td>C85</td>\n",
       "      <td>C</td>\n",
       "    </tr>\n",
       "    <tr>\n",
       "      <th>2</th>\n",
       "      <td>3</td>\n",
       "      <td>1</td>\n",
       "      <td>3</td>\n",
       "      <td>Heikkinen, Miss. Laina</td>\n",
       "      <td>female</td>\n",
       "      <td>26.0</td>\n",
       "      <td>0</td>\n",
       "      <td>0</td>\n",
       "      <td>STON/O2. 3101282</td>\n",
       "      <td>7.9250</td>\n",
       "      <td>NaN</td>\n",
       "      <td>S</td>\n",
       "    </tr>\n",
       "    <tr>\n",
       "      <th>3</th>\n",
       "      <td>4</td>\n",
       "      <td>1</td>\n",
       "      <td>1</td>\n",
       "      <td>Futrelle, Mrs. Jacques Heath (Lily May Peel)</td>\n",
       "      <td>female</td>\n",
       "      <td>35.0</td>\n",
       "      <td>1</td>\n",
       "      <td>0</td>\n",
       "      <td>113803</td>\n",
       "      <td>53.1000</td>\n",
       "      <td>C123</td>\n",
       "      <td>S</td>\n",
       "    </tr>\n",
       "    <tr>\n",
       "      <th>4</th>\n",
       "      <td>5</td>\n",
       "      <td>0</td>\n",
       "      <td>3</td>\n",
       "      <td>Allen, Mr. William Henry</td>\n",
       "      <td>male</td>\n",
       "      <td>35.0</td>\n",
       "      <td>0</td>\n",
       "      <td>0</td>\n",
       "      <td>373450</td>\n",
       "      <td>8.0500</td>\n",
       "      <td>NaN</td>\n",
       "      <td>S</td>\n",
       "    </tr>\n",
       "  </tbody>\n",
       "</table>\n",
       "</div>"
      ],
      "text/plain": [
       "   PassengerId  Survived  Pclass  \\\n",
       "0            1         0       3   \n",
       "1            2         1       1   \n",
       "2            3         1       3   \n",
       "3            4         1       1   \n",
       "4            5         0       3   \n",
       "\n",
       "                                                Name     Sex   Age  SibSp  \\\n",
       "0                            Braund, Mr. Owen Harris    male  22.0      1   \n",
       "1  Cumings, Mrs. John Bradley (Florence Briggs Th...  female  38.0      1   \n",
       "2                             Heikkinen, Miss. Laina  female  26.0      0   \n",
       "3       Futrelle, Mrs. Jacques Heath (Lily May Peel)  female  35.0      1   \n",
       "4                           Allen, Mr. William Henry    male  35.0      0   \n",
       "\n",
       "   Parch            Ticket     Fare Cabin Embarked  \n",
       "0      0         A/5 21171   7.2500   NaN        S  \n",
       "1      0          PC 17599  71.2833   C85        C  \n",
       "2      0  STON/O2. 3101282   7.9250   NaN        S  \n",
       "3      0            113803  53.1000  C123        S  \n",
       "4      0            373450   8.0500   NaN        S  "
      ]
     },
     "execution_count": 3,
     "metadata": {},
     "output_type": "execute_result"
    }
   ],
   "source": [
    "# Loading the dataset\n",
    "titanic_dataset = pd.read_csv('..\\\\..\\\\Datasets\\\\Titanic.csv')\n",
    "print(titanic_dataset.shape, '\\n')\n",
    "titanic_dataset.head()"
   ]
  },
  {
   "cell_type": "code",
   "execution_count": 4,
   "metadata": {},
   "outputs": [
    {
     "data": {
      "text/html": [
       "<div>\n",
       "<style scoped>\n",
       "    .dataframe tbody tr th:only-of-type {\n",
       "        vertical-align: middle;\n",
       "    }\n",
       "\n",
       "    .dataframe tbody tr th {\n",
       "        vertical-align: top;\n",
       "    }\n",
       "\n",
       "    .dataframe thead th {\n",
       "        text-align: right;\n",
       "    }\n",
       "</style>\n",
       "<table border=\"1\" class=\"dataframe\">\n",
       "  <thead>\n",
       "    <tr style=\"text-align: right;\">\n",
       "      <th></th>\n",
       "      <th>PassengerId</th>\n",
       "      <th>Survived</th>\n",
       "      <th>Pclass</th>\n",
       "      <th>Age</th>\n",
       "      <th>SibSp</th>\n",
       "      <th>Parch</th>\n",
       "      <th>Fare</th>\n",
       "    </tr>\n",
       "  </thead>\n",
       "  <tbody>\n",
       "    <tr>\n",
       "      <th>count</th>\n",
       "      <td>891.000000</td>\n",
       "      <td>891.000000</td>\n",
       "      <td>891.000000</td>\n",
       "      <td>714.000000</td>\n",
       "      <td>891.000000</td>\n",
       "      <td>891.000000</td>\n",
       "      <td>891.000000</td>\n",
       "    </tr>\n",
       "    <tr>\n",
       "      <th>mean</th>\n",
       "      <td>446.000000</td>\n",
       "      <td>0.383838</td>\n",
       "      <td>2.308642</td>\n",
       "      <td>29.699118</td>\n",
       "      <td>0.523008</td>\n",
       "      <td>0.381594</td>\n",
       "      <td>32.204208</td>\n",
       "    </tr>\n",
       "    <tr>\n",
       "      <th>std</th>\n",
       "      <td>257.353842</td>\n",
       "      <td>0.486592</td>\n",
       "      <td>0.836071</td>\n",
       "      <td>14.526497</td>\n",
       "      <td>1.102743</td>\n",
       "      <td>0.806057</td>\n",
       "      <td>49.693429</td>\n",
       "    </tr>\n",
       "    <tr>\n",
       "      <th>min</th>\n",
       "      <td>1.000000</td>\n",
       "      <td>0.000000</td>\n",
       "      <td>1.000000</td>\n",
       "      <td>0.420000</td>\n",
       "      <td>0.000000</td>\n",
       "      <td>0.000000</td>\n",
       "      <td>0.000000</td>\n",
       "    </tr>\n",
       "    <tr>\n",
       "      <th>25%</th>\n",
       "      <td>223.500000</td>\n",
       "      <td>0.000000</td>\n",
       "      <td>2.000000</td>\n",
       "      <td>20.125000</td>\n",
       "      <td>0.000000</td>\n",
       "      <td>0.000000</td>\n",
       "      <td>7.910400</td>\n",
       "    </tr>\n",
       "    <tr>\n",
       "      <th>50%</th>\n",
       "      <td>446.000000</td>\n",
       "      <td>0.000000</td>\n",
       "      <td>3.000000</td>\n",
       "      <td>28.000000</td>\n",
       "      <td>0.000000</td>\n",
       "      <td>0.000000</td>\n",
       "      <td>14.454200</td>\n",
       "    </tr>\n",
       "    <tr>\n",
       "      <th>75%</th>\n",
       "      <td>668.500000</td>\n",
       "      <td>1.000000</td>\n",
       "      <td>3.000000</td>\n",
       "      <td>38.000000</td>\n",
       "      <td>1.000000</td>\n",
       "      <td>0.000000</td>\n",
       "      <td>31.000000</td>\n",
       "    </tr>\n",
       "    <tr>\n",
       "      <th>max</th>\n",
       "      <td>891.000000</td>\n",
       "      <td>1.000000</td>\n",
       "      <td>3.000000</td>\n",
       "      <td>80.000000</td>\n",
       "      <td>8.000000</td>\n",
       "      <td>6.000000</td>\n",
       "      <td>512.329200</td>\n",
       "    </tr>\n",
       "  </tbody>\n",
       "</table>\n",
       "</div>"
      ],
      "text/plain": [
       "       PassengerId    Survived      Pclass         Age       SibSp  \\\n",
       "count   891.000000  891.000000  891.000000  714.000000  891.000000   \n",
       "mean    446.000000    0.383838    2.308642   29.699118    0.523008   \n",
       "std     257.353842    0.486592    0.836071   14.526497    1.102743   \n",
       "min       1.000000    0.000000    1.000000    0.420000    0.000000   \n",
       "25%     223.500000    0.000000    2.000000   20.125000    0.000000   \n",
       "50%     446.000000    0.000000    3.000000   28.000000    0.000000   \n",
       "75%     668.500000    1.000000    3.000000   38.000000    1.000000   \n",
       "max     891.000000    1.000000    3.000000   80.000000    8.000000   \n",
       "\n",
       "            Parch        Fare  \n",
       "count  891.000000  891.000000  \n",
       "mean     0.381594   32.204208  \n",
       "std      0.806057   49.693429  \n",
       "min      0.000000    0.000000  \n",
       "25%      0.000000    7.910400  \n",
       "50%      0.000000   14.454200  \n",
       "75%      0.000000   31.000000  \n",
       "max      6.000000  512.329200  "
      ]
     },
     "execution_count": 4,
     "metadata": {},
     "output_type": "execute_result"
    }
   ],
   "source": [
    "# Printing basic statistics of the dataset\n",
    "titanic_dataset.describe()"
   ]
  },
  {
   "cell_type": "code",
   "execution_count": 5,
   "metadata": {},
   "outputs": [
    {
     "name": "stdout",
     "output_type": "stream",
     "text": [
      "<class 'pandas.core.frame.DataFrame'>\n",
      "RangeIndex: 891 entries, 0 to 890\n",
      "Data columns (total 12 columns):\n",
      " #   Column       Non-Null Count  Dtype  \n",
      "---  ------       --------------  -----  \n",
      " 0   PassengerId  891 non-null    int64  \n",
      " 1   Survived     891 non-null    int64  \n",
      " 2   Pclass       891 non-null    int64  \n",
      " 3   Name         891 non-null    object \n",
      " 4   Sex          891 non-null    object \n",
      " 5   Age          714 non-null    float64\n",
      " 6   SibSp        891 non-null    int64  \n",
      " 7   Parch        891 non-null    int64  \n",
      " 8   Ticket       891 non-null    object \n",
      " 9   Fare         891 non-null    float64\n",
      " 10  Cabin        204 non-null    object \n",
      " 11  Embarked     889 non-null    object \n",
      "dtypes: float64(2), int64(5), object(5)\n",
      "memory usage: 83.7+ KB\n"
     ]
    }
   ],
   "source": [
    "# Printing info of the dataset\n",
    "titanic_dataset.info()"
   ]
  },
  {
   "cell_type": "markdown",
   "metadata": {},
   "source": [
    "## Data Preprocessing"
   ]
  },
  {
   "cell_type": "markdown",
   "metadata": {},
   "source": [
    "### 1. Handling Missing Values"
   ]
  },
  {
   "cell_type": "code",
   "execution_count": 6,
   "metadata": {},
   "outputs": [
    {
     "data": {
      "text/plain": [
       "PassengerId      0\n",
       "Survived         0\n",
       "Pclass           0\n",
       "Name             0\n",
       "Sex              0\n",
       "Age            177\n",
       "SibSp            0\n",
       "Parch            0\n",
       "Ticket           0\n",
       "Fare             0\n",
       "Cabin          687\n",
       "Embarked         2\n",
       "dtype: int64"
      ]
     },
     "execution_count": 6,
     "metadata": {},
     "output_type": "execute_result"
    }
   ],
   "source": [
    "# Checking for the missing values in the dataset\n",
    "titanic_dataset.isnull().sum() "
   ]
  },
  {
   "cell_type": "code",
   "execution_count": 7,
   "metadata": {},
   "outputs": [],
   "source": [
    "# Handling the missing values\n",
    "\n",
    "# 1. Imputing 'Age' feature with its median\n",
    "titanic_dataset.fillna({'Age' : titanic_dataset['Age'].median()}, inplace=True)\n",
    "\n",
    "# 2. Dropping the 'Cabin' feature since it is mostly empty\n",
    "titanic_dataset.drop('Cabin', axis=1, inplace=True)\n",
    "\n",
    "# 3. Imputing 'Embarked' feature with its mode (since it is categorical)\n",
    "titanic_dataset.fillna({'Embarked' : titanic_dataset['Embarked'].mode()[0]}, inplace=True)"
   ]
  },
  {
   "cell_type": "code",
   "execution_count": 8,
   "metadata": {},
   "outputs": [
    {
     "name": "stdout",
     "output_type": "stream",
     "text": [
      "Missing values in the Dataset: 0\n"
     ]
    }
   ],
   "source": [
    "# Checking the missing values after imputing the values\n",
    "print('Missing values in the Dataset:', titanic_dataset.isnull().sum().sum())"
   ]
  },
  {
   "cell_type": "markdown",
   "metadata": {},
   "source": [
    "<br>\n",
    "<h3> 2. Feature Engineering </h3>"
   ]
  },
  {
   "cell_type": "code",
   "execution_count": 9,
   "metadata": {},
   "outputs": [
    {
     "data": {
      "text/plain": [
       "(891, 8)"
      ]
     },
     "execution_count": 9,
     "metadata": {},
     "output_type": "execute_result"
    }
   ],
   "source": [
    "# Removing unnecessary features\n",
    "titanic_dataset.drop(['PassengerId', 'Name', 'Ticket'], axis=1, inplace=True)\n",
    "\n",
    "# Printing shape of dataset after removing features\n",
    "titanic_dataset.shape"
   ]
  },
  {
   "cell_type": "markdown",
   "metadata": {},
   "source": [
    "<br>\n",
    "<h3> 3. Encode Categorical Features </h3>"
   ]
  },
  {
   "cell_type": "code",
   "execution_count": 10,
   "metadata": {},
   "outputs": [
    {
     "data": {
      "text/plain": [
       "Index(['Sex', 'Embarked'], dtype='object')"
      ]
     },
     "execution_count": 10,
     "metadata": {},
     "output_type": "execute_result"
    }
   ],
   "source": [
    "# Separating the categorical features\n",
    "categorical_features = titanic_dataset.select_dtypes('object').columns\n",
    "categorical_features"
   ]
  },
  {
   "cell_type": "code",
   "execution_count": 11,
   "metadata": {},
   "outputs": [],
   "source": [
    "# Encoding the categorical features \n",
    "encoder = LabelEncoder()\n",
    "\n",
    "for feature in categorical_features:\n",
    "    titanic_dataset[feature] = encoder.fit_transform(titanic_dataset[feature])"
   ]
  },
  {
   "cell_type": "code",
   "execution_count": 12,
   "metadata": {},
   "outputs": [
    {
     "name": "stdout",
     "output_type": "stream",
     "text": [
      "Sex :  2 :  [1 0] :  int64\n",
      "Embarked :  3 :  [2 0 1] :  int64\n"
     ]
    }
   ],
   "source": [
    "# Checking categories and datatype of categorical variables after encoding\n",
    "for feature in categorical_features:\n",
    "    print(feature, ': ', titanic_dataset[feature].nunique(), ': ', titanic_dataset[feature].unique(), ': ', titanic_dataset[feature].dtype)"
   ]
  },
  {
   "cell_type": "markdown",
   "metadata": {},
   "source": [
    "<br>\n",
    "<h3> 4. Standardizing Numerical Features </h3>"
   ]
  },
  {
   "cell_type": "code",
   "execution_count": 13,
   "metadata": {},
   "outputs": [],
   "source": [
    "# Standardizing the numerical features\n",
    "scaler = StandardScaler()\n",
    "\n",
    "titanic_dataset['Age'] = scaler.fit_transform(titanic_dataset[['Age']])\n",
    "titanic_dataset['Fare'] = scaler.fit_transform(titanic_dataset[['Fare']])\n",
    "# Since only these two features are numerical that should be scaled"
   ]
  },
  {
   "cell_type": "code",
   "execution_count": 14,
   "metadata": {},
   "outputs": [
    {
     "data": {
      "text/html": [
       "<div>\n",
       "<style scoped>\n",
       "    .dataframe tbody tr th:only-of-type {\n",
       "        vertical-align: middle;\n",
       "    }\n",
       "\n",
       "    .dataframe tbody tr th {\n",
       "        vertical-align: top;\n",
       "    }\n",
       "\n",
       "    .dataframe thead th {\n",
       "        text-align: right;\n",
       "    }\n",
       "</style>\n",
       "<table border=\"1\" class=\"dataframe\">\n",
       "  <thead>\n",
       "    <tr style=\"text-align: right;\">\n",
       "      <th></th>\n",
       "      <th>Age</th>\n",
       "      <th>Fare</th>\n",
       "    </tr>\n",
       "  </thead>\n",
       "  <tbody>\n",
       "    <tr>\n",
       "      <th>count</th>\n",
       "      <td>891.00</td>\n",
       "      <td>891.00</td>\n",
       "    </tr>\n",
       "    <tr>\n",
       "      <th>mean</th>\n",
       "      <td>0.00</td>\n",
       "      <td>0.00</td>\n",
       "    </tr>\n",
       "    <tr>\n",
       "      <th>std</th>\n",
       "      <td>1.00</td>\n",
       "      <td>1.00</td>\n",
       "    </tr>\n",
       "    <tr>\n",
       "      <th>min</th>\n",
       "      <td>-2.22</td>\n",
       "      <td>-0.65</td>\n",
       "    </tr>\n",
       "    <tr>\n",
       "      <th>25%</th>\n",
       "      <td>-0.57</td>\n",
       "      <td>-0.49</td>\n",
       "    </tr>\n",
       "    <tr>\n",
       "      <th>50%</th>\n",
       "      <td>-0.10</td>\n",
       "      <td>-0.36</td>\n",
       "    </tr>\n",
       "    <tr>\n",
       "      <th>75%</th>\n",
       "      <td>0.43</td>\n",
       "      <td>-0.02</td>\n",
       "    </tr>\n",
       "    <tr>\n",
       "      <th>max</th>\n",
       "      <td>3.89</td>\n",
       "      <td>9.67</td>\n",
       "    </tr>\n",
       "  </tbody>\n",
       "</table>\n",
       "</div>"
      ],
      "text/plain": [
       "          Age    Fare\n",
       "count  891.00  891.00\n",
       "mean     0.00    0.00\n",
       "std      1.00    1.00\n",
       "min     -2.22   -0.65\n",
       "25%     -0.57   -0.49\n",
       "50%     -0.10   -0.36\n",
       "75%      0.43   -0.02\n",
       "max      3.89    9.67"
      ]
     },
     "execution_count": 14,
     "metadata": {},
     "output_type": "execute_result"
    }
   ],
   "source": [
    "# Checking mean and std of scaled features\n",
    "titanic_dataset[['Age', 'Fare']].describe().round(2)"
   ]
  },
  {
   "cell_type": "markdown",
   "metadata": {},
   "source": [
    "<br>\n",
    "<h3> 5. Balancing Imbalanced Data </h3>"
   ]
  },
  {
   "cell_type": "code",
   "execution_count": 15,
   "metadata": {},
   "outputs": [
    {
     "name": "stdout",
     "output_type": "stream",
     "text": [
      "Survived\n",
      "0    549\n",
      "1    342\n",
      "Name: count, dtype: int64 \n",
      "\n",
      "\n"
     ]
    },
    {
     "data": {
      "image/png": "[encoded data removed]",
      "text/plain": [
       "<Figure size 1000x600 with 1 Axes>"
      ]
     },
     "metadata": {},
     "output_type": "display_data"
    }
   ],
   "source": [
    "# Checking if the target variable is imbalanced\n",
    "print(titanic_dataset['Survived'].value_counts(), '\\n\\n')\n",
    "\n",
    "# Visualizing this distribution using pie chart\n",
    "plt.figure(figsize=(10, 6))\n",
    "plt.pie(titanic_dataset['Survived'].value_counts(), labels=titanic_dataset['Survived'].value_counts().index, autopct='%.1f')\n",
    "plt.title('Distribution of Target Variable')\n",
    "plt.show()\n"
   ]
  },
  {
   "cell_type": "code",
   "execution_count": 16,
   "metadata": {},
   "outputs": [],
   "source": [
    "# Since the target variable is fairly imbalanced, we will balance it using SMOTE technique.\n",
    "smote = SMOTE()\n",
    "\n",
    "# Splitting the dataset before over sampling\n",
    "X = titanic_dataset.drop('Survived', axis=1)\n",
    "Y = titanic_dataset['Survived']\n",
    "\n",
    "# Applying oversampling\n",
    "X, Y = smote.fit_resample(X, Y)"
   ]
  },
  {
   "cell_type": "code",
   "execution_count": 17,
   "metadata": {},
   "outputs": [
    {
     "name": "stdout",
     "output_type": "stream",
     "text": [
      "Survived\n",
      "0    549\n",
      "1    549\n",
      "Name: count, dtype: int64 \n",
      "\n",
      "\n"
     ]
    }
   ],
   "source": [
    "# Checking the target variable is after balancing\n",
    "print(Y.value_counts(), '\\n\\n')"
   ]
  },
  {
   "cell_type": "markdown",
   "metadata": {},
   "source": [
    "-> Now, the dataset has been preprocessed and is ready for model training."
   ]
  },
  {
   "cell_type": "markdown",
   "metadata": {},
   "source": [
    "<br><hr><br>\n",
    "<h1>1. Evaluating Logistic Regression with Cross-Validation</h1>\n",
    "<h3><b>Exercise:</b> Implement logistic regression and evaluate the model using k-fold cross-validation. <br>\n",
    "Compare the cross-validation scores with a single train-test split evaluation.\n",
    "</h3>"
   ]
  },
  {
   "cell_type": "code",
   "execution_count": 18,
   "metadata": {},
   "outputs": [],
   "source": [
    "# Implementing logistic regression\n",
    "lr_model = LogisticRegression()\n",
    "\n",
    "# Evaluating the model using K-fold cross validation\n",
    "cv_scores = cross_val_score(lr_model, X, Y, cv=10)"
   ]
  },
  {
   "cell_type": "code",
   "execution_count": 19,
   "metadata": {},
   "outputs": [],
   "source": [
    "# Evaluating the model using single train test split\n",
    "X_train, X_test, Y_train, Y_test = train_test_split(X, Y, test_size=0.2, random_state=42)\n",
    "lr_model.fit(X_train, Y_train)\n",
    "Y_pred = lr_model.predict(X_test)\n",
    "single_split_score = accuracy_score(Y_test, Y_pred)"
   ]
  },
  {
   "cell_type": "code",
   "execution_count": 20,
   "metadata": {},
   "outputs": [
    {
     "name": "stdout",
     "output_type": "stream",
     "text": [
      "10-Fold Cross Validation Score: [0.782 0.745 0.855 0.736 0.718 0.791 0.827 0.836 0.835 0.771]\n",
      "10-Fold Cross Validation Score Mean:  0.790\n",
      "Single Split Score:  0.832\n"
     ]
    }
   ],
   "source": [
    "# Comparing the cross vals score with single train test split score\n",
    "print(f'10-Fold Cross Validation Score: {np.round(cv_scores, 3)}')\n",
    "print(f'10-Fold Cross Validation Score Mean: {cv_scores.mean() : .3f}')\n",
    "print(f'Single Split Score: {single_split_score : .3f}')"
   ]
  },
  {
   "cell_type": "markdown",
   "metadata": {},
   "source": [
    "-> The 10-fold cross-validation score mean of 0.795 indicates consistent model performance across the different data subsets. The single split score of 0.809 is slightly higher but not significantly different, indicating that the model generalizes well. The cross-validation scores range (0.718 to 0.855) shows some variability with highest score being the third one, 0.855. \n",
    "\n",
    "-> Both the single split score and the 10-fold cross validation score doesn't differ so much indicating that model generalizes well even in single split."
   ]
  },
  {
   "cell_type": "markdown",
   "metadata": {},
   "source": [
    "<hr>"
   ]
  },
  {
   "cell_type": "markdown",
   "metadata": {},
   "source": [
    "<br>\n",
    "<h1>2. Analyzing Overfitting and Underfitting in Decision Trees</h1>\n",
    "<h3><b>Exercise:</b> Train a decision tree classifier with varying depths to analyze overfitting and underfitting. <br>\n",
    "Plot training and validation accuracies to visualize the effects.</h3>"
   ]
  },
  {
   "cell_type": "code",
   "execution_count": 21,
   "metadata": {},
   "outputs": [
    {
     "name": "stdout",
     "output_type": "stream",
     "text": [
      "Training Accuracies: [0.767 0.784 0.815 0.827 0.839 0.858 0.875 0.885 0.907 0.923 0.948 0.959\n",
      " 0.972 0.979 0.983 0.985 0.985 0.986 0.987 0.987]\n",
      "\n",
      "Validation Accuracies: [0.823 0.836 0.859 0.864 0.85  0.859 0.836 0.823 0.827 0.814 0.823 0.818\n",
      " 0.827 0.818 0.823 0.823 0.827 0.823 0.814 0.823]\n"
     ]
    }
   ],
   "source": [
    "# Declaring arrays for storing train and validation accuracies of decision trees with varying depths\n",
    "train_accuracies = []\n",
    "validation_accuracies = []\n",
    "depths = range(1, 21)\n",
    "\n",
    "# Training decision tree classifier with 20 differenct depths\n",
    "for depth in depths:\n",
    "    dtc_model = DecisionTreeClassifier(max_depth=depth)\n",
    "    dtc_model.fit(X_train, Y_train)\n",
    "\n",
    "    # Train Accuracies\n",
    "    train_accuracy = dtc_model.score(X_train, Y_train)\n",
    "    train_accuracies.append(train_accuracy)\n",
    "\n",
    "    # Validation Accuracies\n",
    "    validation_accuracy = dtc_model.score(X_test, Y_test)\n",
    "    validation_accuracies.append(validation_accuracy)\n",
    "\n",
    "print(f'Training Accuracies: {np.round(train_accuracies, 3)}')\n",
    "print(f'\\nValidation Accuracies: {np.round(validation_accuracies, 3)}')"
   ]
  },
  {
   "cell_type": "code",
   "execution_count": 22,
   "metadata": {},
   "outputs": [
    {
     "data": {
      "image/png": "[encoded data removed]",
      "text/plain": [
       "<Figure size 1000x600 with 1 Axes>"
      ]
     },
     "metadata": {},
     "output_type": "display_data"
    }
   ],
   "source": [
    "# Plotting the training and validation accuracies to visualize the effects\n",
    "plt.figure(figsize=(10, 6), facecolor='lightgray')\n",
    "plt.plot(depths, train_accuracies, label='Training Accuracy')\n",
    "plt.plot(depths, validation_accuracies, label='Validation Accuracies')\n",
    "plt.xlabel('Tree Depth')\n",
    "plt.ylabel('Accuracy')\n",
    "plt.title('Training and Validation Accuracies')\n",
    "plt.grid(True, zorder=1)\n",
    "plt.legend()\n",
    "plt.show()"
   ]
  },
  {
   "cell_type": "markdown",
   "metadata": {},
   "source": [
    "-> From both the data and the graph, it can be seen that the model tends to underfit in the beginning since both the training and validation curved are close to each other and at last, the model is overfitting since the training and the validation curves are at max distance. \n",
    "\n",
    "<li><b>Initial Phase (Underfitting):</b> In the early stages, both training and validation accuracies are low, indicating that the model might be underfitting. This is due to the fact that the depth of the decisison tree is low and model is too simple to capture the patterns in the training data. This can be seen in graph by both the curves being close to each other.</li>\n",
    "\n",
    "<li><b>Mid Phase (Optimal Fit):</b> As the training accuracy improves, the validation accuracy also improves, reaching a peak at around 0.845. This indicates that the model is achieving a good balance between fitting the training data and generalizing to unseen data.</li> \n",
    "\n",
    "<li><b>Later Phase (Overfitting):</b> After reaching the peak, the validation accuracy begins to decline even though the training accuracy continues to increase. This suggests that the model starts to overfit the training data. This is due to the reason that the depth of the decision tree has increased such that it become too complex for the data and now it is also capturing the noise, result in overfitting.</li> "
   ]
  },
  {
   "cell_type": "markdown",
   "metadata": {},
   "source": [
    "<hr>"
   ]
  },
  {
   "cell_type": "markdown",
   "metadata": {},
   "source": [
    "<br>\n",
    "<h1>3. Calculating Precision, Recall, and F1-Score for Logistic Regression</h1>\n",
    "<h3><b>Exercise:</b>  Implement logistic regression and calculate precision, recall, and F1-score for the model. <br>\n",
    "<b>Tip:</b> Discuss how these metrics provide insights into model performance in  your week article.\n",
    "</h3>"
   ]
  },
  {
   "cell_type": "code",
   "execution_count": 23,
   "metadata": {},
   "outputs": [],
   "source": [
    "# Implementing the logistic regression model\n",
    "lr_model = LogisticRegression()\n",
    "lr_model.fit(X_train, Y_train)\n",
    "\n",
    "# Predicting the target variable\n",
    "Y_pred = lr_model.predict(X_test)"
   ]
  },
  {
   "cell_type": "code",
   "execution_count": 24,
   "metadata": {},
   "outputs": [
    {
     "name": "stdout",
     "output_type": "stream",
     "text": [
      "Precision score of the model:  0.81\n",
      "Recall score of the model:  0.90\n",
      "F1 score of the model:  0.85\n"
     ]
    }
   ],
   "source": [
    "# Calculating Precision score\n",
    "print(f'Precision score of the model: {precision_score(Y_test, Y_pred) : .2f}')\n",
    "\n",
    "# Calculating Recall score\n",
    "print(f'Recall score of the model: {recall_score(Y_test, Y_pred) : .2f}')\n",
    "\n",
    "# Calculating F1 score\n",
    "print(f'F1 score of the model: {f1_score(Y_test, Y_pred) : .2f}')"
   ]
  },
  {
   "cell_type": "markdown",
   "metadata": {},
   "source": [
    "<li><b>Precision (0.80):</b> The precision of the model is simply the ratio of True Positives (TP) to the total number of positives predicted (True Positives TP + False Positives FP) by the model. In this case, model predicts 80% of the predicted positives correct, indicating good performance.</li>\n",
    "<br>\n",
    "<li><b>Recall (0.85):</b> The recall of the model is the ratio of True Positives (TP) to the total number of actual positives (True Positives TP + False Negatives FN) in the dataset. In this case, model predicts 85% of the actual positives as correct.</li>\n",
    "<br>\n",
    "<li><b>F1 score (0.83):</b> The F1 score of the model is the harmonic mean of the precision and recall scores. It is shows the balance between the precision and recall. F1 score of 83% suggests a good balance between precision and recall values, indicating that model performs well.</li>"
   ]
  },
  {
   "cell_type": "markdown",
   "metadata": {},
   "source": [
    "<hr>"
   ]
  },
  {
   "cell_type": "markdown",
   "metadata": {},
   "source": [
    "<br>\n",
    "<h1>4. ROC Curve Analysis for Decision Trees</h1>\n",
    "<h3><b>Exercise:</b> Implement a decision tree classifier and plot the ROC curve.<br>\n",
    "Compute the AUC (Area Under the Curve) and interpret the results.</h3>"
   ]
  },
  {
   "cell_type": "code",
   "execution_count": 25,
   "metadata": {},
   "outputs": [],
   "source": [
    "# Implementing Decision Tree Classifier model\n",
    "dtc_model = DecisionTreeClassifier()\n",
    "dtc_model.fit(X_train, Y_train)\n",
    "\n",
    "# Predicting the probabilities to compute the ROC curve\n",
    "Y_pred_proba = dtc_model.predict_proba(X_test)[:, 1]"
   ]
  },
  {
   "cell_type": "code",
   "execution_count": 26,
   "metadata": {},
   "outputs": [
    {
     "data": {
      "image/png": "[encoded data removed]",
      "text/plain": [
       "<Figure size 1000x600 with 1 Axes>"
      ]
     },
     "metadata": {},
     "output_type": "display_data"
    }
   ],
   "source": [
    "# Computing the fpr, tpr and thresholds for the ROC curve\n",
    "fpr, tpr, threshold = roc_curve(Y_test, Y_pred_proba)\n",
    "\n",
    "# Computing the AUC score\n",
    "auc = roc_auc_score(Y_test, Y_pred_proba)\n",
    "\n",
    "# Plotting the ROC curve\n",
    "plt.figure(figsize=(10, 6), facecolor='lightgray')\n",
    "plt.plot(fpr, tpr, lw=2, label=f'ROC Curve\\n(AUC = {auc:.3f})')   # The ROC curve with fpr on x-axis and tpr on y-axis\n",
    "plt.plot([0, 1], [0, 1], color='red', lw=2, linestyle='--')   # The reference 0.5 AUC line.\n",
    "plt.xlabel('False Positive Rate')\n",
    "plt.ylabel('True Positive Rate')\n",
    "plt.title('Reciever Operating Characteristic (ROC) curve')\n",
    "plt.legend()\n",
    "plt.grid(True, zorder=1)\n",
    "plt.show()"
   ]
  },
  {
   "cell_type": "code",
   "execution_count": 27,
   "metadata": {},
   "outputs": [
    {
     "name": "stdout",
     "output_type": "stream",
     "text": [
      "The AUC of ROC curve: 0.823\n"
     ]
    }
   ],
   "source": [
    "# Printing the AUC of ROC curve\n",
    "print(f'The AUC of ROC curve: {auc:.3f}')"
   ]
  },
  {
   "cell_type": "markdown",
   "metadata": {},
   "source": [
    "-> The AUC value of 0.771 suggests that the model correctly guesses 77.1% of the predictions. The ROC curve is also well above the line of random guessing model (red dashed line) indicating the model performance is good.\n",
    "<br><br>\n",
    "-> The point where the ROC curve is close to the y-axis and far from the x-axis indicates that this threshold is best for this classification problem, since the TPR is higher than the FPR."
   ]
  },
  {
   "cell_type": "markdown",
   "metadata": {},
   "source": [
    "<hr>"
   ]
  },
  {
   "cell_type": "markdown",
   "metadata": {},
   "source": [
    "<br>\n",
    "<h1>5. Comparing Model Performance with and without Cross-Validation</h1>\n",
    "<h3><b>Exercise:</b> Train logistic regression and decision tree models with and without cross-validation. <br>\n",
    "Compare their performance metrics, including accuracy, precision, and recall.</h3>"
   ]
  },
  {
   "cell_type": "code",
   "execution_count": 31,
   "metadata": {},
   "outputs": [
    {
     "name": "stdout",
     "output_type": "stream",
     "text": [
      "Performance Metrics for Non-cross validated Logistic Regression Model:\n",
      "Accuracy: 0.832\n",
      "Precision: 0.808\n",
      "Recall: 0.897\n"
     ]
    }
   ],
   "source": [
    "# Training Logistic Regression without cross validation\n",
    "lr_model = LogisticRegression()\n",
    "lr_model.fit(X_train, Y_train)\n",
    "\n",
    "Y_pred_lr = lr_model.predict(X_test)\n",
    "\n",
    "# Performance metrics for non-cross validated Log-Reg model\n",
    "print('Performance Metrics for Non-cross validated Logistic Regression Model:')\n",
    "print(f'Accuracy: {accuracy_score(Y_test, Y_pred_lr):.3f}')\n",
    "print(f'Precision: {precision_score(Y_test, Y_pred_lr):.3f}')\n",
    "print(f'Recall: {recall_score(Y_test, Y_pred_lr):.3f}')"
   ]
  },
  {
   "cell_type": "code",
   "execution_count": 38,
   "metadata": {},
   "outputs": [
    {
     "name": "stdout",
     "output_type": "stream",
     "text": [
      "Performance Metrics for Cross Validated Logistic Regression Model:\n",
      "Accuracy: 0.790\n",
      "Precision: 0.801\n",
      "Recall: 0.771\n"
     ]
    }
   ],
   "source": [
    "# Training Logistic Regression with Cross Validation (10 folds)\n",
    "# Calculating cross validation accuracy\n",
    "lr_cv_scores = cross_val_score(LogisticRegression(), X, Y, cv=10, scoring='accuracy')\n",
    "lr_cv_accuracy = lr_cv_scores.mean()\n",
    "\n",
    "# Calculating cross validation precision\n",
    "lr_cv_scores = cross_val_score(LogisticRegression(), X, Y, cv=10, scoring='precision')\n",
    "lr_cv_precision = lr_cv_scores.mean()\n",
    "\n",
    "# Calculating cross validation recall\n",
    "lr_cv_scores = cross_val_score(LogisticRegression(), X, Y, cv=10, scoring='recall')\n",
    "lr_cv_recall = lr_cv_scores.mean()\n",
    "\n",
    "# Performance metrics for cross validated Log-Reg model\n",
    "print('Performance Metrics for Cross Validated Logistic Regression Model:')\n",
    "print(f'Accuracy: {lr_cv_accuracy:.3f}')\n",
    "print(f'Precision: {lr_cv_precision:.3f}')\n",
    "print(f'Recall: {lr_cv_recall:.3f}')"
   ]
  },
  {
   "cell_type": "markdown",
   "metadata": {},
   "source": [
    "-> The <b>non-cross-validated logistic regression model</b> achieves higher accuracy (0.832) and recall (0.897), indicating it is more effective at identifying positive cases but potentially overfitting to the training data. Its precision (0.808) is slightly lower, suggesting more false positives. <br>\n",
    "In contrast, the <b>cross-validated logistic regression model</b> has lower accuracy (0.790) and recall (0.771) but maintains a similar precision (0.801). This implies that while it may miss more positive cases, it is more likely to generalize well to new data. <br>\n",
    "<p>--------------------------------------------------------------------------------------------------------------------------------</p>"
   ]
  },
  {
   "cell_type": "code",
   "execution_count": 36,
   "metadata": {},
   "outputs": [
    {
     "name": "stdout",
     "output_type": "stream",
     "text": [
      "Performance Metrics for Non-cross validated Decision Tree Classifier Model:\n",
      "Accuracy: 0.818\n",
      "Precision: 0.818\n",
      "Recall: 0.846\n"
     ]
    }
   ],
   "source": [
    "# Training Decision Tree Classifier without cross validation\n",
    "dtc_model = DecisionTreeClassifier()\n",
    "dtc_model.fit(X_train, Y_train)\n",
    "\n",
    "Y_pred_dtc = dtc_model.predict(X_test)\n",
    "\n",
    "# Performance metrics for non-cross validated Decision Tree model\n",
    "print('Performance Metrics for Non-cross validated Decision Tree Classifier Model:')\n",
    "print(f'Accuracy: {accuracy_score(Y_test, Y_pred_dtc):.3f}')\n",
    "print(f'Precision: {precision_score(Y_test, Y_pred_dtc):.3f}')\n",
    "print(f'Recall: {recall_score(Y_test, Y_pred_dtc):.3f}')"
   ]
  },
  {
   "cell_type": "code",
   "execution_count": 66,
   "metadata": {},
   "outputs": [
    {
     "name": "stdout",
     "output_type": "stream",
     "text": [
      "Performance Metrics for Cross Validated Decision Tree Classifier Model:\n",
      "Accuracy: 0.821\n",
      "Precision: 0.823\n",
      "Recall: 0.816\n"
     ]
    }
   ],
   "source": [
    "# Training Decision Tree Classifier with Cross Validation (10 folds)\n",
    "# Calculating cross validation accuracy\n",
    "dtc_cv_scores = cross_val_score(DecisionTreeClassifier(), X, Y, cv=10, scoring='accuracy')\n",
    "dtc_cv_accuracy = dtc_cv_scores.mean()\n",
    "\n",
    "# Calculating cross validation precision\n",
    "dtc_cv_scores = cross_val_score(DecisionTreeClassifier(), X, Y, cv=10, scoring='precision')\n",
    "dtc_cv_precision = dtc_cv_scores.mean()\n",
    "\n",
    "# Calculating cross validation recall\n",
    "dtc_cv_scores = cross_val_score(DecisionTreeClassifier(), X, Y, cv=10, scoring='recall')\n",
    "dtc_cv_recall = dtc_cv_scores.mean()\n",
    "\n",
    "# Performance metrics for cross validated Decision Tree model\n",
    "print('Performance Metrics for Cross Validated Decision Tree Classifier Model:')\n",
    "print(f'Accuracy: {dtc_cv_accuracy:.3f}')\n",
    "print(f'Precision: {dtc_cv_precision:.3f}')\n",
    "print(f'Recall: {dtc_cv_recall:.3f}')"
   ]
  },
  {
   "cell_type": "markdown",
   "metadata": {},
   "source": [
    "-> The <b>non-cross-validated decision tree classifier</b> achieves an accuracy of 0.818, precision of 0.818, and recall of 0.846, indicating good performance but with a higher tendency to identify positive cases (higher recall). <br> \n",
    "The <b>cross-validated decision tree classifier</b> shows slightly improved accuracy (0.821) and precision (0.823), but a lower recall (0.816), suggesting a more balanced and generalizable model. While the differences are minor, the cross-validated model is likely more reliable for unseen data due to its slight improvement in accuracy and precision, indicating better generalization and reduced overfitting."
   ]
  },
  {
   "cell_type": "markdown",
   "metadata": {},
   "source": [
    "<hr>"
   ]
  }
 ],
 "metadata": {
  "kernelspec": {
   "display_name": "Python 3",
   "language": "python",
   "name": "python3"
  },
  "language_info": {
   "codemirror_mode": {
    "name": "ipython",
    "version": 3
   },
   "file_extension": ".py",
   "mimetype": "text/x-python",
   "name": "python",
   "nbconvert_exporter": "python",
   "pygments_lexer": "ipython3",
   "version": "3.12.3"
  }
 },
 "nbformat": 4,
 "nbformat_minor": 2
}
