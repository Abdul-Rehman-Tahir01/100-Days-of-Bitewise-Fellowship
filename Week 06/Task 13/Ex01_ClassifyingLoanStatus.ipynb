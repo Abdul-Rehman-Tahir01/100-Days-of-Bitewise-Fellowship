{
 "cells": [
  {
   "cell_type": "markdown",
   "metadata": {},
   "source": [
    "<h1>1. Classifying Loan Status Using Decision Trees</h1>\n",
    "<h3><b>Preprocessing Steps:</b></h3>\n",
    "<ul>\n",
    "    <li>Handle missing values if any.</li>\n",
    "    <li>Encode categorical variables (e.g., one-hot encoding for loan grade, sub-grade, etc.).</li>\n",
    "    <li>Standardize numerical features.</li>\n",
    "</ul>\n",
    "<h3><b> Task: </b>Implement a decision tree classifier to classify loan status and evaluate the model using accuracy and ROC-AUC.</h3>"
   ]
  },
  {
   "cell_type": "code",
   "execution_count": 27,
   "metadata": {},
   "outputs": [],
   "source": [
    "# Importing Libraries\n",
    "import pandas as pd\n",
    "import numpy as np\n",
    "from sklearn.preprocessing import LabelEncoder, StandardScaler, normalize\n",
    "from sklearn.model_selection import train_test_split\n",
    "from sklearn.tree import DecisionTreeClassifier\n",
    "from sklearn.metrics import accuracy_score, roc_auc_score"
   ]
  },
  {
   "cell_type": "code",
   "execution_count": 2,
   "metadata": {},
   "outputs": [
    {
     "name": "stdout",
     "output_type": "stream",
     "text": [
      "(10000, 56) \n",
      "\n"
     ]
    },
    {
     "data": {
      "text/html": [
       "<div>\n",
       "<style scoped>\n",
       "    .dataframe tbody tr th:only-of-type {\n",
       "        vertical-align: middle;\n",
       "    }\n",
       "\n",
       "    .dataframe tbody tr th {\n",
       "        vertical-align: top;\n",
       "    }\n",
       "\n",
       "    .dataframe thead th {\n",
       "        text-align: right;\n",
       "    }\n",
       "</style>\n",
       "<table border=\"1\" class=\"dataframe\">\n",
       "  <thead>\n",
       "    <tr style=\"text-align: right;\">\n",
       "      <th></th>\n",
       "      <th>Unnamed: 0</th>\n",
       "      <th>emp_title</th>\n",
       "      <th>emp_length</th>\n",
       "      <th>state</th>\n",
       "      <th>homeownership</th>\n",
       "      <th>annual_income</th>\n",
       "      <th>verified_income</th>\n",
       "      <th>debt_to_income</th>\n",
       "      <th>annual_income_joint</th>\n",
       "      <th>verification_income_joint</th>\n",
       "      <th>...</th>\n",
       "      <th>sub_grade</th>\n",
       "      <th>issue_month</th>\n",
       "      <th>loan_status</th>\n",
       "      <th>initial_listing_status</th>\n",
       "      <th>disbursement_method</th>\n",
       "      <th>balance</th>\n",
       "      <th>paid_total</th>\n",
       "      <th>paid_principal</th>\n",
       "      <th>paid_interest</th>\n",
       "      <th>paid_late_fees</th>\n",
       "    </tr>\n",
       "  </thead>\n",
       "  <tbody>\n",
       "    <tr>\n",
       "      <th>0</th>\n",
       "      <td>1</td>\n",
       "      <td>global config engineer</td>\n",
       "      <td>3.0</td>\n",
       "      <td>NJ</td>\n",
       "      <td>MORTGAGE</td>\n",
       "      <td>90000.0</td>\n",
       "      <td>Verified</td>\n",
       "      <td>18.01</td>\n",
       "      <td>NaN</td>\n",
       "      <td>NaN</td>\n",
       "      <td>...</td>\n",
       "      <td>C3</td>\n",
       "      <td>Mar-2018</td>\n",
       "      <td>Current</td>\n",
       "      <td>whole</td>\n",
       "      <td>Cash</td>\n",
       "      <td>27015.86</td>\n",
       "      <td>1999.33</td>\n",
       "      <td>984.14</td>\n",
       "      <td>1015.19</td>\n",
       "      <td>0.0</td>\n",
       "    </tr>\n",
       "    <tr>\n",
       "      <th>1</th>\n",
       "      <td>2</td>\n",
       "      <td>warehouse office clerk</td>\n",
       "      <td>10.0</td>\n",
       "      <td>HI</td>\n",
       "      <td>RENT</td>\n",
       "      <td>40000.0</td>\n",
       "      <td>Not Verified</td>\n",
       "      <td>5.04</td>\n",
       "      <td>NaN</td>\n",
       "      <td>NaN</td>\n",
       "      <td>...</td>\n",
       "      <td>C1</td>\n",
       "      <td>Feb-2018</td>\n",
       "      <td>Current</td>\n",
       "      <td>whole</td>\n",
       "      <td>Cash</td>\n",
       "      <td>4651.37</td>\n",
       "      <td>499.12</td>\n",
       "      <td>348.63</td>\n",
       "      <td>150.49</td>\n",
       "      <td>0.0</td>\n",
       "    </tr>\n",
       "    <tr>\n",
       "      <th>2</th>\n",
       "      <td>3</td>\n",
       "      <td>assembly</td>\n",
       "      <td>3.0</td>\n",
       "      <td>WI</td>\n",
       "      <td>RENT</td>\n",
       "      <td>40000.0</td>\n",
       "      <td>Source Verified</td>\n",
       "      <td>21.15</td>\n",
       "      <td>NaN</td>\n",
       "      <td>NaN</td>\n",
       "      <td>...</td>\n",
       "      <td>D1</td>\n",
       "      <td>Feb-2018</td>\n",
       "      <td>Current</td>\n",
       "      <td>fractional</td>\n",
       "      <td>Cash</td>\n",
       "      <td>1824.63</td>\n",
       "      <td>281.80</td>\n",
       "      <td>175.37</td>\n",
       "      <td>106.43</td>\n",
       "      <td>0.0</td>\n",
       "    </tr>\n",
       "    <tr>\n",
       "      <th>3</th>\n",
       "      <td>4</td>\n",
       "      <td>customer service</td>\n",
       "      <td>1.0</td>\n",
       "      <td>PA</td>\n",
       "      <td>RENT</td>\n",
       "      <td>30000.0</td>\n",
       "      <td>Not Verified</td>\n",
       "      <td>10.16</td>\n",
       "      <td>NaN</td>\n",
       "      <td>NaN</td>\n",
       "      <td>...</td>\n",
       "      <td>A3</td>\n",
       "      <td>Jan-2018</td>\n",
       "      <td>Current</td>\n",
       "      <td>whole</td>\n",
       "      <td>Cash</td>\n",
       "      <td>18853.26</td>\n",
       "      <td>3312.89</td>\n",
       "      <td>2746.74</td>\n",
       "      <td>566.15</td>\n",
       "      <td>0.0</td>\n",
       "    </tr>\n",
       "    <tr>\n",
       "      <th>4</th>\n",
       "      <td>5</td>\n",
       "      <td>security supervisor</td>\n",
       "      <td>10.0</td>\n",
       "      <td>CA</td>\n",
       "      <td>RENT</td>\n",
       "      <td>35000.0</td>\n",
       "      <td>Verified</td>\n",
       "      <td>57.96</td>\n",
       "      <td>57000.0</td>\n",
       "      <td>Verified</td>\n",
       "      <td>...</td>\n",
       "      <td>C3</td>\n",
       "      <td>Mar-2018</td>\n",
       "      <td>Current</td>\n",
       "      <td>whole</td>\n",
       "      <td>Cash</td>\n",
       "      <td>21430.15</td>\n",
       "      <td>2324.65</td>\n",
       "      <td>1569.85</td>\n",
       "      <td>754.80</td>\n",
       "      <td>0.0</td>\n",
       "    </tr>\n",
       "  </tbody>\n",
       "</table>\n",
       "<p>5 rows × 56 columns</p>\n",
       "</div>"
      ],
      "text/plain": [
       "   Unnamed: 0                emp_title  emp_length state homeownership  \\\n",
       "0           1  global config engineer          3.0    NJ      MORTGAGE   \n",
       "1           2   warehouse office clerk        10.0    HI          RENT   \n",
       "2           3                 assembly         3.0    WI          RENT   \n",
       "3           4         customer service         1.0    PA          RENT   \n",
       "4           5     security supervisor         10.0    CA          RENT   \n",
       "\n",
       "   annual_income  verified_income  debt_to_income  annual_income_joint  \\\n",
       "0        90000.0         Verified           18.01                  NaN   \n",
       "1        40000.0     Not Verified            5.04                  NaN   \n",
       "2        40000.0  Source Verified           21.15                  NaN   \n",
       "3        30000.0     Not Verified           10.16                  NaN   \n",
       "4        35000.0         Verified           57.96              57000.0   \n",
       "\n",
       "  verification_income_joint  ...  sub_grade  issue_month  loan_status  \\\n",
       "0                       NaN  ...         C3     Mar-2018      Current   \n",
       "1                       NaN  ...         C1     Feb-2018      Current   \n",
       "2                       NaN  ...         D1     Feb-2018      Current   \n",
       "3                       NaN  ...         A3     Jan-2018      Current   \n",
       "4                  Verified  ...         C3     Mar-2018      Current   \n",
       "\n",
       "   initial_listing_status  disbursement_method   balance  paid_total  \\\n",
       "0                   whole                 Cash  27015.86     1999.33   \n",
       "1                   whole                 Cash   4651.37      499.12   \n",
       "2              fractional                 Cash   1824.63      281.80   \n",
       "3                   whole                 Cash  18853.26     3312.89   \n",
       "4                   whole                 Cash  21430.15     2324.65   \n",
       "\n",
       "   paid_principal  paid_interest  paid_late_fees  \n",
       "0          984.14        1015.19             0.0  \n",
       "1          348.63         150.49             0.0  \n",
       "2          175.37         106.43             0.0  \n",
       "3         2746.74         566.15             0.0  \n",
       "4         1569.85         754.80             0.0  \n",
       "\n",
       "[5 rows x 56 columns]"
      ]
     },
     "execution_count": 2,
     "metadata": {},
     "output_type": "execute_result"
    }
   ],
   "source": [
    "# Loading the dataset\n",
    "loan_dataset = pd.read_csv('..\\\\..\\\\Datasets\\\\LendingClubLoan.csv')\n",
    "print(loan_dataset.shape, '\\n')\n",
    "loan_dataset.head()"
   ]
  },
  {
   "cell_type": "code",
   "execution_count": 3,
   "metadata": {},
   "outputs": [
    {
     "name": "stdout",
     "output_type": "stream",
     "text": [
      "        Unnamed: 0   emp_length  annual_income  debt_to_income  annual_income_joint  debt_to_income_joint    delinq_2y  months_since_last_delinq  earliest_credit_line  inquiries_last_12m  total_credit_lines  open_credit_lines  total_credit_limit  total_credit_utilized  num_collections_last_12m  num_historical_failed_to_pay  months_since_90d_late  current_accounts_delinq  total_collection_amount_ever  current_installment_accounts  accounts_opened_24m  months_since_last_credit_inquiry  num_satisfactory_accounts  num_accounts_120d_past_due  num_accounts_30d_past_due  num_active_debit_accounts  total_debit_limit  num_total_cc_accounts  num_open_cc_accounts  num_cc_carrying_balance  num_mort_accounts  account_never_delinq_percent     tax_liens  public_record_bankrupt   loan_amount          term  interest_rate   installment       balance    paid_total  paid_principal  paid_interest  paid_late_fees\n",
      "count  10000.00000  9183.000000   1.000000e+04     9976.000000         1.495000e+03           1495.000000  10000.00000               4342.000000           10000.00000         10000.00000        10000.000000        10000.00000        1.000000e+04           10000.000000              10000.000000                  10000.000000            2285.000000               10000.0000                  10000.000000                  10000.000000         10000.000000                       8729.000000               10000.000000                      9682.0                 10000.0000               10000.000000       10000.000000           10000.000000          10000.000000             10000.000000       10000.000000                  10000.000000  10000.000000            10000.000000  10000.000000  10000.000000   10000.000000  10000.000000  10000.000000  10000.000000    10000.000000   10000.000000    10000.000000\n",
      "mean    5000.50000     5.930306   7.922215e+04       19.308192         1.279146e+05             19.979304      0.21600                 36.760709            2001.29000             1.95820           22.679600           11.40440        1.836062e+05           51049.063100                  0.013800                      0.167100              46.112473                   0.0001                    184.334000                      2.663600             4.376100                          7.340703                  11.379600                         0.0                     0.0001                   3.595300       27357.410300              13.030000              8.095000                 5.230500           1.383100                     94.648990      0.043300                0.123800  16361.922500     43.272000      12.427524    476.205323  14458.916610   2494.234773     1894.448466     599.666781        0.119516\n",
      "std     2886.89568     3.703734   6.473429e+04       15.004851         7.016838e+04              8.054781      0.68366                 21.634939               7.79551             2.38013           11.885439            5.86828        1.876327e+05           53636.731172                  0.126535                      0.687768              21.748021                   0.0100                   2206.389859                      2.935387             3.158583                          5.981590                   5.859705                         0.0                     0.0100                   2.434689       26570.164081               7.874713              4.906606                 3.327623           1.717274                      9.155059      0.593852                0.337172  10301.956759     11.029877       5.001105    294.851627   9964.561865   3958.230365     3884.407175     517.328062        1.813468\n",
      "min        1.00000     0.000000   0.000000e+00        0.000000         1.920000e+04              0.320000      0.00000                  1.000000            1963.00000             0.00000            2.000000            0.00000        0.000000e+00               0.000000                  0.000000                      0.000000               2.000000                   0.0000                      0.000000                      0.000000             0.000000                          0.000000                   0.000000                         0.0                     0.0000                   0.000000           0.000000               2.000000              0.000000                 0.000000           0.000000                     14.300000      0.000000                0.000000   1000.000000     36.000000       5.310000     30.750000      0.000000      0.000000        0.000000       0.000000        0.000000\n",
      "25%     2500.75000     2.000000   4.500000e+04       11.057500         8.683350e+04             14.160000      0.00000                 19.000000            1997.00000             0.00000           14.000000            7.00000        5.159375e+04           19185.500000                  0.000000                      0.000000              29.000000                   0.0000                      0.000000                      1.000000             2.000000                          2.000000                   7.000000                         0.0                     0.0000                   2.000000       10000.000000               7.000000              5.000000                 3.000000           0.000000                     92.600000      0.000000                0.000000   8000.000000     36.000000       9.430000    256.040000   6679.065000    928.700000      587.100000     221.757500        0.000000\n",
      "50%     5000.50000     6.000000   6.500000e+04       17.570000         1.130000e+05             19.720000      0.00000                 34.000000            2003.00000             1.00000           21.000000           10.00000        1.146670e+05           36927.000000                  0.000000                      0.000000              47.000000                   0.0000                      0.000000                      2.000000             4.000000                          6.000000                  10.000000                         0.0                     0.0000                   3.000000       19500.000000              11.000000              7.000000                 5.000000           1.000000                    100.000000      0.000000                0.000000  14500.000000     36.000000      11.980000    398.420000  12379.495000   1563.300000      984.990000     446.140000        0.000000\n",
      "75%     7500.25000    10.000000   9.500000e+04       25.002500         1.515455e+05             25.500000      0.00000                 53.000000            2006.00000             3.00000           29.000000           14.00000        2.675500e+05           65421.000000                  0.000000                      0.000000              63.000000                   0.0000                      0.000000                      3.000000             6.000000                         11.000000                  14.000000                         0.0                     0.0000                   5.000000       36100.000000              17.000000             10.000000                 7.000000           2.000000                    100.000000      0.000000                0.000000  24000.000000     60.000000      15.050000    644.690000  20690.182500   2616.005000     1694.555000     825.420000        0.000000\n",
      "max    10000.00000    10.000000   2.300000e+06      469.090000         1.100000e+06             39.980000     13.00000                118.000000            2015.00000            29.00000           87.000000           51.00000        3.386034e+06          942456.000000                  3.000000                     52.000000             128.000000                   1.0000                 199308.000000                     35.000000            29.000000                         24.000000                  51.000000                         0.0                     1.0000                  32.000000      386700.000000              66.000000             46.000000                43.000000          14.000000                    100.000000     52.000000                3.000000  40000.000000     60.000000      30.940000   1566.590000  40000.000000  41630.443684    40000.000000    4216.440000       52.980000\n"
     ]
    }
   ],
   "source": [
    "# Printing basic statistics of the dataset\n",
    "print(loan_dataset.describe().to_string())"
   ]
  },
  {
   "cell_type": "code",
   "execution_count": 4,
   "metadata": {},
   "outputs": [
    {
     "name": "stdout",
     "output_type": "stream",
     "text": [
      "<class 'pandas.core.frame.DataFrame'>\n",
      "RangeIndex: 10000 entries, 0 to 9999\n",
      "Data columns (total 56 columns):\n",
      " #   Column                            Non-Null Count  Dtype  \n",
      "---  ------                            --------------  -----  \n",
      " 0   Unnamed: 0                        10000 non-null  int64  \n",
      " 1   emp_title                         9167 non-null   object \n",
      " 2   emp_length                        9183 non-null   float64\n",
      " 3   state                             10000 non-null  object \n",
      " 4   homeownership                     10000 non-null  object \n",
      " 5   annual_income                     10000 non-null  float64\n",
      " 6   verified_income                   10000 non-null  object \n",
      " 7   debt_to_income                    9976 non-null   float64\n",
      " 8   annual_income_joint               1495 non-null   float64\n",
      " 9   verification_income_joint         1455 non-null   object \n",
      " 10  debt_to_income_joint              1495 non-null   float64\n",
      " 11  delinq_2y                         10000 non-null  int64  \n",
      " 12  months_since_last_delinq          4342 non-null   float64\n",
      " 13  earliest_credit_line              10000 non-null  int64  \n",
      " 14  inquiries_last_12m                10000 non-null  int64  \n",
      " 15  total_credit_lines                10000 non-null  int64  \n",
      " 16  open_credit_lines                 10000 non-null  int64  \n",
      " 17  total_credit_limit                10000 non-null  int64  \n",
      " 18  total_credit_utilized             10000 non-null  int64  \n",
      " 19  num_collections_last_12m          10000 non-null  int64  \n",
      " 20  num_historical_failed_to_pay      10000 non-null  int64  \n",
      " 21  months_since_90d_late             2285 non-null   float64\n",
      " 22  current_accounts_delinq           10000 non-null  int64  \n",
      " 23  total_collection_amount_ever      10000 non-null  int64  \n",
      " 24  current_installment_accounts      10000 non-null  int64  \n",
      " 25  accounts_opened_24m               10000 non-null  int64  \n",
      " 26  months_since_last_credit_inquiry  8729 non-null   float64\n",
      " 27  num_satisfactory_accounts         10000 non-null  int64  \n",
      " 28  num_accounts_120d_past_due        9682 non-null   float64\n",
      " 29  num_accounts_30d_past_due         10000 non-null  int64  \n",
      " 30  num_active_debit_accounts         10000 non-null  int64  \n",
      " 31  total_debit_limit                 10000 non-null  int64  \n",
      " 32  num_total_cc_accounts             10000 non-null  int64  \n",
      " 33  num_open_cc_accounts              10000 non-null  int64  \n",
      " 34  num_cc_carrying_balance           10000 non-null  int64  \n",
      " 35  num_mort_accounts                 10000 non-null  int64  \n",
      " 36  account_never_delinq_percent      10000 non-null  float64\n",
      " 37  tax_liens                         10000 non-null  int64  \n",
      " 38  public_record_bankrupt            10000 non-null  int64  \n",
      " 39  loan_purpose                      10000 non-null  object \n",
      " 40  application_type                  10000 non-null  object \n",
      " 41  loan_amount                       10000 non-null  int64  \n",
      " 42  term                              10000 non-null  int64  \n",
      " 43  interest_rate                     10000 non-null  float64\n",
      " 44  installment                       10000 non-null  float64\n",
      " 45  grade                             10000 non-null  object \n",
      " 46  sub_grade                         10000 non-null  object \n",
      " 47  issue_month                       10000 non-null  object \n",
      " 48  loan_status                       10000 non-null  object \n",
      " 49  initial_listing_status            10000 non-null  object \n",
      " 50  disbursement_method               10000 non-null  object \n",
      " 51  balance                           10000 non-null  float64\n",
      " 52  paid_total                        10000 non-null  float64\n",
      " 53  paid_principal                    10000 non-null  float64\n",
      " 54  paid_interest                     10000 non-null  float64\n",
      " 55  paid_late_fees                    10000 non-null  float64\n",
      "dtypes: float64(17), int64(26), object(13)\n",
      "memory usage: 4.3+ MB\n"
     ]
    }
   ],
   "source": [
    "# Printing information of dataset\n",
    "loan_dataset.info()"
   ]
  },
  {
   "cell_type": "markdown",
   "metadata": {},
   "source": [
    "<h2>Data Preprocessing</h2>"
   ]
  },
  {
   "cell_type": "markdown",
   "metadata": {},
   "source": [
    "<h3>1. Handling Missing Values</h3>"
   ]
  },
  {
   "cell_type": "code",
   "execution_count": 5,
   "metadata": {},
   "outputs": [
    {
     "name": "stdout",
     "output_type": "stream",
     "text": [
      "emp_title :  833\n",
      "emp_length :  817\n",
      "debt_to_income :  24\n",
      "annual_income_joint :  8505\n",
      "verification_income_joint :  8545\n",
      "debt_to_income_joint :  8505\n",
      "months_since_last_delinq :  5658\n",
      "months_since_90d_late :  7715\n",
      "months_since_last_credit_inquiry :  1271\n",
      "num_accounts_120d_past_due :  318\n"
     ]
    }
   ],
   "source": [
    "# Checking for the missing values in the dataset and printing only features with their missing values\n",
    "for feature in loan_dataset.columns:\n",
    "    if loan_dataset[feature].isnull().sum() > 0:\n",
    "        print(feature,\": \", loan_dataset[feature].isnull().sum())"
   ]
  },
  {
   "cell_type": "code",
   "execution_count": 6,
   "metadata": {},
   "outputs": [
    {
     "name": "stdout",
     "output_type": "stream",
     "text": [
      "Missing values in the dataset: 0\n"
     ]
    }
   ],
   "source": [
    "# Removing those columns having missing values of more than 55%.\n",
    "loan_dataset.drop(['annual_income_joint', 'verification_income_joint', 'debt_to_income_joint', 'months_since_last_delinq', 'months_since_90d_late'], axis=1, inplace=True)\n",
    "\n",
    "# Using mode imputation on 'object' features\n",
    "loan_dataset.fillna({'emp_title': loan_dataset['emp_title'].mode()[0]}, inplace=True)\n",
    "\n",
    "# Using mean imputation on 'float' features. Since remaining all features are numerical, we will use direct approach.\n",
    "for feature in loan_dataset[['emp_length', 'debt_to_income', 'months_since_last_credit_inquiry', 'num_accounts_120d_past_due']]:\n",
    "    loan_dataset.fillna({feature: loan_dataset[feature].mean()}, inplace=True)\n",
    "    \n",
    "# Checking for the missing values in the dataset\n",
    "print('Missing values in the dataset:', loan_dataset.isnull().sum().sum())"
   ]
  },
  {
   "cell_type": "markdown",
   "metadata": {},
   "source": [
    "-> So, missing values in the dataset have been handled and all the values have been imputed."
   ]
  },
  {
   "cell_type": "markdown",
   "metadata": {},
   "source": [
    "<h3>2. Encode Categorical Variables</h3>"
   ]
  },
  {
   "cell_type": "code",
   "execution_count": 7,
   "metadata": {},
   "outputs": [
    {
     "name": "stdout",
     "output_type": "stream",
     "text": [
      "Index(['emp_title', 'state', 'homeownership', 'verified_income',\n",
      "       'loan_purpose', 'application_type', 'grade', 'sub_grade', 'issue_month',\n",
      "       'loan_status', 'initial_listing_status', 'disbursement_method'],\n",
      "      dtype='object') :  12\n",
      "\n",
      " Index(['emp_length', 'annual_income', 'debt_to_income', 'delinq_2y',\n",
      "       'earliest_credit_line', 'inquiries_last_12m', 'total_credit_lines',\n",
      "       'open_credit_lines', 'total_credit_limit', 'total_credit_utilized',\n",
      "       'num_collections_last_12m', 'num_historical_failed_to_pay',\n",
      "       'current_accounts_delinq', 'total_collection_amount_ever',\n",
      "       'current_installment_accounts', 'accounts_opened_24m',\n",
      "       'months_since_last_credit_inquiry', 'num_satisfactory_accounts',\n",
      "       'num_accounts_120d_past_due', 'num_accounts_30d_past_due',\n",
      "       'num_active_debit_accounts', 'total_debit_limit',\n",
      "       'num_total_cc_accounts', 'num_open_cc_accounts',\n",
      "       'num_cc_carrying_balance', 'num_mort_accounts',\n",
      "       'account_never_delinq_percent', 'tax_liens', 'public_record_bankrupt',\n",
      "       'loan_amount', 'term', 'interest_rate', 'installment', 'balance',\n",
      "       'paid_total', 'paid_principal', 'paid_interest', 'paid_late_fees'],\n",
      "      dtype='object') :  38\n"
     ]
    }
   ],
   "source": [
    "# Selecting the features with datatype 'object'.\n",
    "categorical_features = loan_dataset.select_dtypes('object').columns\n",
    "print(categorical_features, ': ', len(categorical_features))\n",
    "\n",
    "# Selecting the numerical features\n",
    "numerical_features = loan_dataset.drop(columns=categorical_features, axis=1)\n",
    "numerical_features.drop('Unnamed: 0', axis=1, inplace=True)   # No need of this column\n",
    "print('\\n', numerical_features.columns, ': ', numerical_features.shape[1])"
   ]
  },
  {
   "cell_type": "code",
   "execution_count": 8,
   "metadata": {},
   "outputs": [
    {
     "name": "stdout",
     "output_type": "stream",
     "text": [
      "emp_title :  4741 :  ['global config engineer ' 'warehouse office clerk' 'assembly' ...\n",
      " 'inspector/packer' 'da coordinator ' 'toolmaker'] \n",
      "\n",
      "state :  50 :  ['NJ' 'HI' 'WI' 'PA' 'CA' 'KY' 'MI' 'AZ' 'NV' 'IL' 'FL' 'SC' 'CO' 'TN'\n",
      " 'TX' 'VA' 'NY' 'GA' 'MO' 'AR' 'MD' 'NC' 'NE' 'WV' 'NH' 'UT' 'DE' 'MA'\n",
      " 'OR' 'OH' 'OK' 'SD' 'MN' 'AL' 'WY' 'LA' 'IN' 'KS' 'MS' 'WA' 'ME' 'VT'\n",
      " 'CT' 'NM' 'AK' 'MT' 'RI' 'ND' 'DC' 'ID'] \n",
      "\n",
      "homeownership :  3 :  ['MORTGAGE' 'RENT' 'OWN'] \n",
      "\n",
      "verified_income :  3 :  ['Verified' 'Not Verified' 'Source Verified'] \n",
      "\n",
      "loan_purpose :  12 :  ['moving' 'debt_consolidation' 'other' 'credit_card' 'home_improvement'\n",
      " 'medical' 'house' 'small_business' 'car' 'major_purchase' 'vacation'\n",
      " 'renewable_energy'] \n",
      "\n",
      "application_type :  2 :  ['individual' 'joint'] \n",
      "\n",
      "grade :  7 :  ['C' 'D' 'A' 'B' 'F' 'E' 'G'] \n",
      "\n",
      "sub_grade :  32 :  ['C3' 'C1' 'D1' 'A3' 'C2' 'B5' 'C4' 'B2' 'B1' 'D3' 'F1' 'E5' 'A2' 'A5'\n",
      " 'A4' 'A1' 'D4' 'D5' 'B3' 'D2' 'E1' 'G1' 'B4' 'C5' 'E2' 'E4' 'F3' 'E3'\n",
      " 'F5' 'F2' 'F4' 'G4'] \n",
      "\n",
      "issue_month :  3 :  ['Mar-2018' 'Feb-2018' 'Jan-2018'] \n",
      "\n",
      "loan_status :  6 :  ['Current' 'Fully Paid' 'In Grace Period' 'Late (31-120 days)'\n",
      " 'Charged Off' 'Late (16-30 days)'] \n",
      "\n",
      "initial_listing_status :  2 :  ['whole' 'fractional'] \n",
      "\n",
      "disbursement_method :  2 :  ['Cash' 'DirectPay'] \n",
      "\n"
     ]
    }
   ],
   "source": [
    "# Printing the categories in each categorical column\n",
    "for category in categorical_features:\n",
    "    print(category, ': ', loan_dataset[category].nunique(), ': ', loan_dataset[category].unique(), '\\n')"
   ]
  },
  {
   "cell_type": "markdown",
   "metadata": {},
   "source": [
    "-> Since there are too many categorical variables with so many categories, label encoder will be the better choice since it will not increase the size of dataset."
   ]
  },
  {
   "cell_type": "code",
   "execution_count": 9,
   "metadata": {},
   "outputs": [],
   "source": [
    "# Applying label encoder to the categorical features\n",
    "encoder = LabelEncoder()\n",
    "\n",
    "for feature in categorical_features:\n",
    "    loan_dataset[feature] = encoder.fit_transform(loan_dataset[feature])"
   ]
  },
  {
   "cell_type": "code",
   "execution_count": 10,
   "metadata": {},
   "outputs": [
    {
     "name": "stdout",
     "output_type": "stream",
     "text": [
      "emp_title :  4741 :  [1777 4675  207 ... 2006 1066 4484] \n",
      "\n",
      "state :  50 :  [30 11 47 37  4 16 21  3 32 13  9 39  5 41 42 44 33 10 23  2 19 26 28 48\n",
      " 29 43  8 18 36 34 35 40 22  1 49 17 14 15 24 46 20 45  6 31  0 25 38 27\n",
      "  7 12] \n",
      "\n",
      "homeownership :  3 :  [0 2 1] \n",
      "\n",
      "verified_income :  3 :  [2 0 1] \n",
      "\n",
      "loan_purpose :  12 :  [ 7  2  8  1  3  6  4 10  0  5 11  9] \n",
      "\n",
      "application_type :  2 :  [0 1] \n",
      "\n",
      "grade :  7 :  [2 3 0 1 5 4 6] \n",
      "\n",
      "sub_grade :  32 :  [12 10 15  2 11  9 13  6  5 17 25 24  1  4  3  0 18 19  7 16 20 30  8 14\n",
      " 21 23 27 22 29 26 28 31] \n",
      "\n",
      "issue_month :  3 :  [2 0 1] \n",
      "\n",
      "loan_status :  6 :  [1 2 3 5 0 4] \n",
      "\n",
      "initial_listing_status :  2 :  [1 0] \n",
      "\n",
      "disbursement_method :  2 :  [0 1] \n",
      "\n"
     ]
    }
   ],
   "source": [
    "# Printing categories after encoding\n",
    "for category in categorical_features:\n",
    "    print(category, ': ', loan_dataset[category].nunique(), ': ', loan_dataset[category].unique(), '\\n')"
   ]
  },
  {
   "cell_type": "code",
   "execution_count": 11,
   "metadata": {},
   "outputs": [
    {
     "name": "stdout",
     "output_type": "stream",
     "text": [
      "<class 'pandas.core.frame.DataFrame'>\n",
      "RangeIndex: 10000 entries, 0 to 9999\n",
      "Data columns (total 51 columns):\n",
      " #   Column                            Non-Null Count  Dtype  \n",
      "---  ------                            --------------  -----  \n",
      " 0   Unnamed: 0                        10000 non-null  int64  \n",
      " 1   emp_title                         10000 non-null  int64  \n",
      " 2   emp_length                        10000 non-null  float64\n",
      " 3   state                             10000 non-null  int64  \n",
      " 4   homeownership                     10000 non-null  int64  \n",
      " 5   annual_income                     10000 non-null  float64\n",
      " 6   verified_income                   10000 non-null  int64  \n",
      " 7   debt_to_income                    10000 non-null  float64\n",
      " 8   delinq_2y                         10000 non-null  int64  \n",
      " 9   earliest_credit_line              10000 non-null  int64  \n",
      " 10  inquiries_last_12m                10000 non-null  int64  \n",
      " 11  total_credit_lines                10000 non-null  int64  \n",
      " 12  open_credit_lines                 10000 non-null  int64  \n",
      " 13  total_credit_limit                10000 non-null  int64  \n",
      " 14  total_credit_utilized             10000 non-null  int64  \n",
      " 15  num_collections_last_12m          10000 non-null  int64  \n",
      " 16  num_historical_failed_to_pay      10000 non-null  int64  \n",
      " 17  current_accounts_delinq           10000 non-null  int64  \n",
      " 18  total_collection_amount_ever      10000 non-null  int64  \n",
      " 19  current_installment_accounts      10000 non-null  int64  \n",
      " 20  accounts_opened_24m               10000 non-null  int64  \n",
      " 21  months_since_last_credit_inquiry  10000 non-null  float64\n",
      " 22  num_satisfactory_accounts         10000 non-null  int64  \n",
      " 23  num_accounts_120d_past_due        10000 non-null  float64\n",
      " 24  num_accounts_30d_past_due         10000 non-null  int64  \n",
      " 25  num_active_debit_accounts         10000 non-null  int64  \n",
      " 26  total_debit_limit                 10000 non-null  int64  \n",
      " 27  num_total_cc_accounts             10000 non-null  int64  \n",
      " 28  num_open_cc_accounts              10000 non-null  int64  \n",
      " 29  num_cc_carrying_balance           10000 non-null  int64  \n",
      " 30  num_mort_accounts                 10000 non-null  int64  \n",
      " 31  account_never_delinq_percent      10000 non-null  float64\n",
      " 32  tax_liens                         10000 non-null  int64  \n",
      " 33  public_record_bankrupt            10000 non-null  int64  \n",
      " 34  loan_purpose                      10000 non-null  int64  \n",
      " 35  application_type                  10000 non-null  int64  \n",
      " 36  loan_amount                       10000 non-null  int64  \n",
      " 37  term                              10000 non-null  int64  \n",
      " 38  interest_rate                     10000 non-null  float64\n",
      " 39  installment                       10000 non-null  float64\n",
      " 40  grade                             10000 non-null  int64  \n",
      " 41  sub_grade                         10000 non-null  int64  \n",
      " 42  issue_month                       10000 non-null  int64  \n",
      " 43  loan_status                       10000 non-null  int64  \n",
      " 44  initial_listing_status            10000 non-null  int64  \n",
      " 45  disbursement_method               10000 non-null  int64  \n",
      " 46  balance                           10000 non-null  float64\n",
      " 47  paid_total                        10000 non-null  float64\n",
      " 48  paid_principal                    10000 non-null  float64\n",
      " 49  paid_interest                     10000 non-null  float64\n",
      " 50  paid_late_fees                    10000 non-null  float64\n",
      "dtypes: float64(13), int64(38)\n",
      "memory usage: 3.9 MB\n"
     ]
    }
   ],
   "source": [
    "# Printing info of the dataset\n",
    "loan_dataset.info()"
   ]
  },
  {
   "cell_type": "markdown",
   "metadata": {},
   "source": [
    "-> Hence, all the features are converted to int and float. No 'object' / categorical feature remains."
   ]
  },
  {
   "cell_type": "markdown",
   "metadata": {},
   "source": [
    "<h3>3. Standardizing Numerical Features</h3>"
   ]
  },
  {
   "cell_type": "code",
   "execution_count": 12,
   "metadata": {},
   "outputs": [],
   "source": [
    "# Applying Standardization\n",
    "scaler = StandardScaler()\n",
    "\n",
    "for feature in numerical_features.columns:\n",
    "    loan_dataset[feature] = scaler.fit_transform(loan_dataset[feature].values.reshape(-1, 1))"
   ]
  },
  {
   "cell_type": "code",
   "execution_count": 13,
   "metadata": {},
   "outputs": [
    {
     "name": "stdout",
     "output_type": "stream",
     "text": [
      "       Unnamed: 0  emp_title  emp_length     state  homeownership  annual_income  verified_income  debt_to_income  delinq_2y  earliest_credit_line  inquiries_last_12m  total_credit_lines  open_credit_lines  total_credit_limit  total_credit_utilized  num_collections_last_12m  num_historical_failed_to_pay  current_accounts_delinq  total_collection_amount_ever  current_installment_accounts  accounts_opened_24m  months_since_last_credit_inquiry  num_satisfactory_accounts  num_accounts_120d_past_due  num_accounts_30d_past_due  num_active_debit_accounts  total_debit_limit  num_total_cc_accounts  num_open_cc_accounts  num_cc_carrying_balance  num_mort_accounts  account_never_delinq_percent  tax_liens  public_record_bankrupt  loan_purpose  application_type  loan_amount      term  interest_rate  installment     grade  sub_grade  issue_month  loan_status  initial_listing_status  disbursement_method   balance  paid_total  paid_principal  paid_interest  paid_late_fees\n",
      "count    10000.00   10000.00    10000.00  10000.00       10000.00       10000.00         10000.00        10000.00   10000.00              10000.00            10000.00            10000.00           10000.00            10000.00               10000.00                  10000.00                      10000.00                 10000.00                      10000.00                      10000.00             10000.00                          10000.00                   10000.00                     10000.0                   10000.00                   10000.00           10000.00               10000.00              10000.00                 10000.00           10000.00                      10000.00   10000.00                10000.00      10000.00          10000.00     10000.00  10000.00       10000.00     10000.00  10000.00   10000.00     10000.00     10000.00                10000.00             10000.00  10000.00    10000.00        10000.00       10000.00        10000.00\n",
      "mean      5000.50    2437.30        0.00     22.49           0.91           0.00             0.87           -0.00       0.00                  0.00                0.00               -0.00              -0.00               -0.00                   0.00                     -0.00                         -0.00                    -0.00                          0.00                         -0.00                -0.00                              0.00                       0.00                         0.0                      -0.00                       0.00               0.00                   0.00                 -0.00                    -0.00               0.00                          0.00       0.00                   -0.00          2.75              0.15        -0.00      0.00          -0.00         0.00      1.44       9.16         1.06         1.10                    0.82                 0.07     -0.00       -0.00           -0.00          -0.00           -0.00\n",
      "std       2886.90    1291.15        1.00     14.72           0.93           1.00             0.76            1.00       1.00                  1.00                1.00                1.00               1.00                1.00                   1.00                      1.00                          1.00                     1.00                          1.00                          1.00                 1.00                              1.00                       1.00                         0.0                       1.00                       1.00               1.00                   1.00                  1.00                     1.00               1.00                          1.00       1.00                    1.00          2.28              0.36         1.00      1.00           1.00         1.00      1.15       5.86         0.81         0.45                    0.38                 0.26      1.00        1.00            1.00           1.00            1.00\n",
      "min          1.00       0.00       -1.67      0.00           0.00          -1.22             0.00           -1.29      -0.32                 -4.91               -0.82               -1.74              -1.94               -0.98                  -0.95                     -0.11                         -0.24                    -0.01                         -0.08                         -0.91                -1.39                             -1.31                      -1.94                         0.0                      -0.01                      -1.48              -1.03                  -1.40                 -1.65                    -1.57              -0.81                         -8.78      -0.07                   -0.37          0.00              0.00        -1.49     -0.66          -1.42        -1.51      0.00       0.00         0.00         0.00                    0.00                 0.00     -1.45       -0.63           -0.49          -1.16           -0.07\n",
      "25%       2500.75    1367.75       -0.83      9.00           0.00          -0.53             0.00           -0.55      -0.32                 -0.55               -0.82               -0.73              -0.75               -0.70                  -0.59                     -0.11                         -0.24                    -0.01                         -0.08                         -0.57                -0.75                             -0.78                      -0.75                         0.0                      -0.01                      -0.66              -0.65                  -0.77                 -0.63                    -0.67              -0.81                         -0.22      -0.07                   -0.37          2.00              0.00        -0.81     -0.66          -0.60        -0.75      1.00       5.00         0.00         1.00                    1.00                 0.00     -0.78       -0.40           -0.34          -0.73           -0.07\n",
      "50%       5000.50    2410.00        0.00     21.00           1.00          -0.22             1.00           -0.11      -0.32                  0.22               -0.40               -0.14              -0.24               -0.37                  -0.26                     -0.11                         -0.24                    -0.01                         -0.08                         -0.23                -0.12                             -0.06                      -0.24                         0.0                      -0.01                      -0.24              -0.30                  -0.26                 -0.22                    -0.07              -0.22                          0.58      -0.07                   -0.37          2.00              0.00        -0.18     -0.66          -0.09        -0.26      1.00       9.00         1.00         1.00                    1.00                 0.00     -0.21       -0.24           -0.23          -0.30           -0.07\n",
      "75%       7500.25    3464.25        1.15     34.00           2.00           0.24             1.00            0.38      -0.32                  0.60                0.44                0.53               0.44                0.45                   0.27                     -0.11                         -0.24                    -0.01                         -0.08                          0.11                 0.51                              0.48                       0.45                         0.0                      -0.01                       0.58               0.33                   0.50                  0.39                     0.53               0.36                          0.58      -0.07                   -0.37          2.00              0.00         0.74      1.52           0.52         0.57      2.00      13.00         2.00         1.00                    1.00                 0.00      0.63        0.03           -0.05           0.44           -0.07\n",
      "max      10000.00    4740.00        1.15     49.00           2.00          34.31             2.00           30.01      18.70                  1.76               11.36                5.41               6.75               17.07                  16.62                     23.60                         75.37                    99.99                         90.25                         11.02                 7.80                              2.98                       6.76                         0.0                      99.99                      11.67              13.52                   6.73                  7.73                    11.35               7.35                          0.58      87.50                    8.53         11.00              1.00         2.29      1.52           3.70         3.70      6.00      31.00         2.00         5.00                    1.00                 1.00      2.56        9.89            9.81           6.99           29.15\n"
     ]
    }
   ],
   "source": [
    "# Printing the basic statistics of the features after standardization\n",
    "statistics = loan_dataset.describe().round(2)\n",
    "print(statistics.to_string())"
   ]
  },
  {
   "cell_type": "markdown",
   "metadata": {},
   "source": [
    "-> So all the numerical features have been standardized and all the categorical featues have been encoded. Now the dataset is ready for the model training."
   ]
  },
  {
   "cell_type": "markdown",
   "metadata": {},
   "source": [
    "<h2>Model Training</h2>"
   ]
  },
  {
   "cell_type": "code",
   "execution_count": 14,
   "metadata": {},
   "outputs": [],
   "source": [
    "# Separating the features and the target variable\n",
    "X = loan_dataset.drop('loan_status', axis=1)\n",
    "Y = loan_dataset['loan_status']\n",
    "\n",
    "# Splitting the dataset into training and testing sets in 80/20 ratio\n",
    "X_train, X_test, Y_train, Y_test = train_test_split(X, Y, test_size=0.2, random_state=42)"
   ]
  },
  {
   "cell_type": "code",
   "execution_count": 15,
   "metadata": {},
   "outputs": [
    {
     "data": {
      "text/html": [
       "<style>#sk-container-id-1 {\n",
       "  /* Definition of color scheme common for light and dark mode */\n",
       "  --sklearn-color-text: black;\n",
       "  --sklearn-color-line: gray;\n",
       "  /* Definition of color scheme for unfitted estimators */\n",
       "  --sklearn-color-unfitted-level-0: #fff5e6;\n",
       "  --sklearn-color-unfitted-level-1: #f6e4d2;\n",
       "  --sklearn-color-unfitted-level-2: #ffe0b3;\n",
       "  --sklearn-color-unfitted-level-3: chocolate;\n",
       "  /* Definition of color scheme for fitted estimators */\n",
       "  --sklearn-color-fitted-level-0: #f0f8ff;\n",
       "  --sklearn-color-fitted-level-1: #d4ebff;\n",
       "  --sklearn-color-fitted-level-2: #b3dbfd;\n",
       "  --sklearn-color-fitted-level-3: cornflowerblue;\n",
       "\n",
       "  /* Specific color for light theme */\n",
       "  --sklearn-color-text-on-default-background: var(--sg-text-color, var(--theme-code-foreground, var(--jp-content-font-color1, black)));\n",
       "  --sklearn-color-background: var(--sg-background-color, var(--theme-background, var(--jp-layout-color0, white)));\n",
       "  --sklearn-color-border-box: var(--sg-text-color, var(--theme-code-foreground, var(--jp-content-font-color1, black)));\n",
       "  --sklearn-color-icon: #696969;\n",
       "\n",
       "  @media (prefers-color-scheme: dark) {\n",
       "    /* Redefinition of color scheme for dark theme */\n",
       "    --sklearn-color-text-on-default-background: var(--sg-text-color, var(--theme-code-foreground, var(--jp-content-font-color1, white)));\n",
       "    --sklearn-color-background: var(--sg-background-color, var(--theme-background, var(--jp-layout-color0, #111)));\n",
       "    --sklearn-color-border-box: var(--sg-text-color, var(--theme-code-foreground, var(--jp-content-font-color1, white)));\n",
       "    --sklearn-color-icon: #878787;\n",
       "  }\n",
       "}\n",
       "\n",
       "#sk-container-id-1 {\n",
       "  color: var(--sklearn-color-text);\n",
       "}\n",
       "\n",
       "#sk-container-id-1 pre {\n",
       "  padding: 0;\n",
       "}\n",
       "\n",
       "#sk-container-id-1 input.sk-hidden--visually {\n",
       "  border: 0;\n",
       "  clip: rect(1px 1px 1px 1px);\n",
       "  clip: rect(1px, 1px, 1px, 1px);\n",
       "  height: 1px;\n",
       "  margin: -1px;\n",
       "  overflow: hidden;\n",
       "  padding: 0;\n",
       "  position: absolute;\n",
       "  width: 1px;\n",
       "}\n",
       "\n",
       "#sk-container-id-1 div.sk-dashed-wrapped {\n",
       "  border: 1px dashed var(--sklearn-color-line);\n",
       "  margin: 0 0.4em 0.5em 0.4em;\n",
       "  box-sizing: border-box;\n",
       "  padding-bottom: 0.4em;\n",
       "  background-color: var(--sklearn-color-background);\n",
       "}\n",
       "\n",
       "#sk-container-id-1 div.sk-container {\n",
       "  /* jupyter's `normalize.less` sets `[hidden] { display: none; }`\n",
       "     but bootstrap.min.css set `[hidden] { display: none !important; }`\n",
       "     so we also need the `!important` here to be able to override the\n",
       "     default hidden behavior on the sphinx rendered scikit-learn.org.\n",
       "     See: https://github.com/scikit-learn/scikit-learn/issues/21755 */\n",
       "  display: inline-block !important;\n",
       "  position: relative;\n",
       "}\n",
       "\n",
       "#sk-container-id-1 div.sk-text-repr-fallback {\n",
       "  display: none;\n",
       "}\n",
       "\n",
       "div.sk-parallel-item,\n",
       "div.sk-serial,\n",
       "div.sk-item {\n",
       "  /* draw centered vertical line to link estimators */\n",
       "  background-image: linear-gradient(var(--sklearn-color-text-on-default-background), var(--sklearn-color-text-on-default-background));\n",
       "  background-size: 2px 100%;\n",
       "  background-repeat: no-repeat;\n",
       "  background-position: center center;\n",
       "}\n",
       "\n",
       "/* Parallel-specific style estimator block */\n",
       "\n",
       "#sk-container-id-1 div.sk-parallel-item::after {\n",
       "  content: \"\";\n",
       "  width: 100%;\n",
       "  border-bottom: 2px solid var(--sklearn-color-text-on-default-background);\n",
       "  flex-grow: 1;\n",
       "}\n",
       "\n",
       "#sk-container-id-1 div.sk-parallel {\n",
       "  display: flex;\n",
       "  align-items: stretch;\n",
       "  justify-content: center;\n",
       "  background-color: var(--sklearn-color-background);\n",
       "  position: relative;\n",
       "}\n",
       "\n",
       "#sk-container-id-1 div.sk-parallel-item {\n",
       "  display: flex;\n",
       "  flex-direction: column;\n",
       "}\n",
       "\n",
       "#sk-container-id-1 div.sk-parallel-item:first-child::after {\n",
       "  align-self: flex-end;\n",
       "  width: 50%;\n",
       "}\n",
       "\n",
       "#sk-container-id-1 div.sk-parallel-item:last-child::after {\n",
       "  align-self: flex-start;\n",
       "  width: 50%;\n",
       "}\n",
       "\n",
       "#sk-container-id-1 div.sk-parallel-item:only-child::after {\n",
       "  width: 0;\n",
       "}\n",
       "\n",
       "/* Serial-specific style estimator block */\n",
       "\n",
       "#sk-container-id-1 div.sk-serial {\n",
       "  display: flex;\n",
       "  flex-direction: column;\n",
       "  align-items: center;\n",
       "  background-color: var(--sklearn-color-background);\n",
       "  padding-right: 1em;\n",
       "  padding-left: 1em;\n",
       "}\n",
       "\n",
       "\n",
       "/* Toggleable style: style used for estimator/Pipeline/ColumnTransformer box that is\n",
       "clickable and can be expanded/collapsed.\n",
       "- Pipeline and ColumnTransformer use this feature and define the default style\n",
       "- Estimators will overwrite some part of the style using the `sk-estimator` class\n",
       "*/\n",
       "\n",
       "/* Pipeline and ColumnTransformer style (default) */\n",
       "\n",
       "#sk-container-id-1 div.sk-toggleable {\n",
       "  /* Default theme specific background. It is overwritten whether we have a\n",
       "  specific estimator or a Pipeline/ColumnTransformer */\n",
       "  background-color: var(--sklearn-color-background);\n",
       "}\n",
       "\n",
       "/* Toggleable label */\n",
       "#sk-container-id-1 label.sk-toggleable__label {\n",
       "  cursor: pointer;\n",
       "  display: block;\n",
       "  width: 100%;\n",
       "  margin-bottom: 0;\n",
       "  padding: 0.5em;\n",
       "  box-sizing: border-box;\n",
       "  text-align: center;\n",
       "}\n",
       "\n",
       "#sk-container-id-1 label.sk-toggleable__label-arrow:before {\n",
       "  /* Arrow on the left of the label */\n",
       "  content: \"▸\";\n",
       "  float: left;\n",
       "  margin-right: 0.25em;\n",
       "  color: var(--sklearn-color-icon);\n",
       "}\n",
       "\n",
       "#sk-container-id-1 label.sk-toggleable__label-arrow:hover:before {\n",
       "  color: var(--sklearn-color-text);\n",
       "}\n",
       "\n",
       "/* Toggleable content - dropdown */\n",
       "\n",
       "#sk-container-id-1 div.sk-toggleable__content {\n",
       "  max-height: 0;\n",
       "  max-width: 0;\n",
       "  overflow: hidden;\n",
       "  text-align: left;\n",
       "  /* unfitted */\n",
       "  background-color: var(--sklearn-color-unfitted-level-0);\n",
       "}\n",
       "\n",
       "#sk-container-id-1 div.sk-toggleable__content.fitted {\n",
       "  /* fitted */\n",
       "  background-color: var(--sklearn-color-fitted-level-0);\n",
       "}\n",
       "\n",
       "#sk-container-id-1 div.sk-toggleable__content pre {\n",
       "  margin: 0.2em;\n",
       "  border-radius: 0.25em;\n",
       "  color: var(--sklearn-color-text);\n",
       "  /* unfitted */\n",
       "  background-color: var(--sklearn-color-unfitted-level-0);\n",
       "}\n",
       "\n",
       "#sk-container-id-1 div.sk-toggleable__content.fitted pre {\n",
       "  /* unfitted */\n",
       "  background-color: var(--sklearn-color-fitted-level-0);\n",
       "}\n",
       "\n",
       "#sk-container-id-1 input.sk-toggleable__control:checked~div.sk-toggleable__content {\n",
       "  /* Expand drop-down */\n",
       "  max-height: 200px;\n",
       "  max-width: 100%;\n",
       "  overflow: auto;\n",
       "}\n",
       "\n",
       "#sk-container-id-1 input.sk-toggleable__control:checked~label.sk-toggleable__label-arrow:before {\n",
       "  content: \"▾\";\n",
       "}\n",
       "\n",
       "/* Pipeline/ColumnTransformer-specific style */\n",
       "\n",
       "#sk-container-id-1 div.sk-label input.sk-toggleable__control:checked~label.sk-toggleable__label {\n",
       "  color: var(--sklearn-color-text);\n",
       "  background-color: var(--sklearn-color-unfitted-level-2);\n",
       "}\n",
       "\n",
       "#sk-container-id-1 div.sk-label.fitted input.sk-toggleable__control:checked~label.sk-toggleable__label {\n",
       "  background-color: var(--sklearn-color-fitted-level-2);\n",
       "}\n",
       "\n",
       "/* Estimator-specific style */\n",
       "\n",
       "/* Colorize estimator box */\n",
       "#sk-container-id-1 div.sk-estimator input.sk-toggleable__control:checked~label.sk-toggleable__label {\n",
       "  /* unfitted */\n",
       "  background-color: var(--sklearn-color-unfitted-level-2);\n",
       "}\n",
       "\n",
       "#sk-container-id-1 div.sk-estimator.fitted input.sk-toggleable__control:checked~label.sk-toggleable__label {\n",
       "  /* fitted */\n",
       "  background-color: var(--sklearn-color-fitted-level-2);\n",
       "}\n",
       "\n",
       "#sk-container-id-1 div.sk-label label.sk-toggleable__label,\n",
       "#sk-container-id-1 div.sk-label label {\n",
       "  /* The background is the default theme color */\n",
       "  color: var(--sklearn-color-text-on-default-background);\n",
       "}\n",
       "\n",
       "/* On hover, darken the color of the background */\n",
       "#sk-container-id-1 div.sk-label:hover label.sk-toggleable__label {\n",
       "  color: var(--sklearn-color-text);\n",
       "  background-color: var(--sklearn-color-unfitted-level-2);\n",
       "}\n",
       "\n",
       "/* Label box, darken color on hover, fitted */\n",
       "#sk-container-id-1 div.sk-label.fitted:hover label.sk-toggleable__label.fitted {\n",
       "  color: var(--sklearn-color-text);\n",
       "  background-color: var(--sklearn-color-fitted-level-2);\n",
       "}\n",
       "\n",
       "/* Estimator label */\n",
       "\n",
       "#sk-container-id-1 div.sk-label label {\n",
       "  font-family: monospace;\n",
       "  font-weight: bold;\n",
       "  display: inline-block;\n",
       "  line-height: 1.2em;\n",
       "}\n",
       "\n",
       "#sk-container-id-1 div.sk-label-container {\n",
       "  text-align: center;\n",
       "}\n",
       "\n",
       "/* Estimator-specific */\n",
       "#sk-container-id-1 div.sk-estimator {\n",
       "  font-family: monospace;\n",
       "  border: 1px dotted var(--sklearn-color-border-box);\n",
       "  border-radius: 0.25em;\n",
       "  box-sizing: border-box;\n",
       "  margin-bottom: 0.5em;\n",
       "  /* unfitted */\n",
       "  background-color: var(--sklearn-color-unfitted-level-0);\n",
       "}\n",
       "\n",
       "#sk-container-id-1 div.sk-estimator.fitted {\n",
       "  /* fitted */\n",
       "  background-color: var(--sklearn-color-fitted-level-0);\n",
       "}\n",
       "\n",
       "/* on hover */\n",
       "#sk-container-id-1 div.sk-estimator:hover {\n",
       "  /* unfitted */\n",
       "  background-color: var(--sklearn-color-unfitted-level-2);\n",
       "}\n",
       "\n",
       "#sk-container-id-1 div.sk-estimator.fitted:hover {\n",
       "  /* fitted */\n",
       "  background-color: var(--sklearn-color-fitted-level-2);\n",
       "}\n",
       "\n",
       "/* Specification for estimator info (e.g. \"i\" and \"?\") */\n",
       "\n",
       "/* Common style for \"i\" and \"?\" */\n",
       "\n",
       ".sk-estimator-doc-link,\n",
       "a:link.sk-estimator-doc-link,\n",
       "a:visited.sk-estimator-doc-link {\n",
       "  float: right;\n",
       "  font-size: smaller;\n",
       "  line-height: 1em;\n",
       "  font-family: monospace;\n",
       "  background-color: var(--sklearn-color-background);\n",
       "  border-radius: 1em;\n",
       "  height: 1em;\n",
       "  width: 1em;\n",
       "  text-decoration: none !important;\n",
       "  margin-left: 1ex;\n",
       "  /* unfitted */\n",
       "  border: var(--sklearn-color-unfitted-level-1) 1pt solid;\n",
       "  color: var(--sklearn-color-unfitted-level-1);\n",
       "}\n",
       "\n",
       ".sk-estimator-doc-link.fitted,\n",
       "a:link.sk-estimator-doc-link.fitted,\n",
       "a:visited.sk-estimator-doc-link.fitted {\n",
       "  /* fitted */\n",
       "  border: var(--sklearn-color-fitted-level-1) 1pt solid;\n",
       "  color: var(--sklearn-color-fitted-level-1);\n",
       "}\n",
       "\n",
       "/* On hover */\n",
       "div.sk-estimator:hover .sk-estimator-doc-link:hover,\n",
       ".sk-estimator-doc-link:hover,\n",
       "div.sk-label-container:hover .sk-estimator-doc-link:hover,\n",
       ".sk-estimator-doc-link:hover {\n",
       "  /* unfitted */\n",
       "  background-color: var(--sklearn-color-unfitted-level-3);\n",
       "  color: var(--sklearn-color-background);\n",
       "  text-decoration: none;\n",
       "}\n",
       "\n",
       "div.sk-estimator.fitted:hover .sk-estimator-doc-link.fitted:hover,\n",
       ".sk-estimator-doc-link.fitted:hover,\n",
       "div.sk-label-container:hover .sk-estimator-doc-link.fitted:hover,\n",
       ".sk-estimator-doc-link.fitted:hover {\n",
       "  /* fitted */\n",
       "  background-color: var(--sklearn-color-fitted-level-3);\n",
       "  color: var(--sklearn-color-background);\n",
       "  text-decoration: none;\n",
       "}\n",
       "\n",
       "/* Span, style for the box shown on hovering the info icon */\n",
       ".sk-estimator-doc-link span {\n",
       "  display: none;\n",
       "  z-index: 9999;\n",
       "  position: relative;\n",
       "  font-weight: normal;\n",
       "  right: .2ex;\n",
       "  padding: .5ex;\n",
       "  margin: .5ex;\n",
       "  width: min-content;\n",
       "  min-width: 20ex;\n",
       "  max-width: 50ex;\n",
       "  color: var(--sklearn-color-text);\n",
       "  box-shadow: 2pt 2pt 4pt #999;\n",
       "  /* unfitted */\n",
       "  background: var(--sklearn-color-unfitted-level-0);\n",
       "  border: .5pt solid var(--sklearn-color-unfitted-level-3);\n",
       "}\n",
       "\n",
       ".sk-estimator-doc-link.fitted span {\n",
       "  /* fitted */\n",
       "  background: var(--sklearn-color-fitted-level-0);\n",
       "  border: var(--sklearn-color-fitted-level-3);\n",
       "}\n",
       "\n",
       ".sk-estimator-doc-link:hover span {\n",
       "  display: block;\n",
       "}\n",
       "\n",
       "/* \"?\"-specific style due to the `<a>` HTML tag */\n",
       "\n",
       "#sk-container-id-1 a.estimator_doc_link {\n",
       "  float: right;\n",
       "  font-size: 1rem;\n",
       "  line-height: 1em;\n",
       "  font-family: monospace;\n",
       "  background-color: var(--sklearn-color-background);\n",
       "  border-radius: 1rem;\n",
       "  height: 1rem;\n",
       "  width: 1rem;\n",
       "  text-decoration: none;\n",
       "  /* unfitted */\n",
       "  color: var(--sklearn-color-unfitted-level-1);\n",
       "  border: var(--sklearn-color-unfitted-level-1) 1pt solid;\n",
       "}\n",
       "\n",
       "#sk-container-id-1 a.estimator_doc_link.fitted {\n",
       "  /* fitted */\n",
       "  border: var(--sklearn-color-fitted-level-1) 1pt solid;\n",
       "  color: var(--sklearn-color-fitted-level-1);\n",
       "}\n",
       "\n",
       "/* On hover */\n",
       "#sk-container-id-1 a.estimator_doc_link:hover {\n",
       "  /* unfitted */\n",
       "  background-color: var(--sklearn-color-unfitted-level-3);\n",
       "  color: var(--sklearn-color-background);\n",
       "  text-decoration: none;\n",
       "}\n",
       "\n",
       "#sk-container-id-1 a.estimator_doc_link.fitted:hover {\n",
       "  /* fitted */\n",
       "  background-color: var(--sklearn-color-fitted-level-3);\n",
       "}\n",
       "</style><div id=\"sk-container-id-1\" class=\"sk-top-container\"><div class=\"sk-text-repr-fallback\"><pre>DecisionTreeClassifier()</pre><b>In a Jupyter environment, please rerun this cell to show the HTML representation or trust the notebook. <br />On GitHub, the HTML representation is unable to render, please try loading this page with nbviewer.org.</b></div><div class=\"sk-container\" hidden><div class=\"sk-item\"><div class=\"sk-estimator fitted sk-toggleable\"><input class=\"sk-toggleable__control sk-hidden--visually\" id=\"sk-estimator-id-1\" type=\"checkbox\" checked><label for=\"sk-estimator-id-1\" class=\"sk-toggleable__label fitted sk-toggleable__label-arrow fitted\">&nbsp;&nbsp;DecisionTreeClassifier<a class=\"sk-estimator-doc-link fitted\" rel=\"noreferrer\" target=\"_blank\" href=\"https://scikit-learn.org/1.5/modules/generated/sklearn.tree.DecisionTreeClassifier.html\">?<span>Documentation for DecisionTreeClassifier</span></a><span class=\"sk-estimator-doc-link fitted\">i<span>Fitted</span></span></label><div class=\"sk-toggleable__content fitted\"><pre>DecisionTreeClassifier()</pre></div> </div></div></div></div>"
      ],
      "text/plain": [
       "DecisionTreeClassifier()"
      ]
     },
     "execution_count": 15,
     "metadata": {},
     "output_type": "execute_result"
    }
   ],
   "source": [
    "# Implementing the model\n",
    "dtc_model = DecisionTreeClassifier()\n",
    "dtc_model.fit(X_train, Y_train)"
   ]
  },
  {
   "cell_type": "code",
   "execution_count": 16,
   "metadata": {},
   "outputs": [
    {
     "data": {
      "text/plain": [
       "array([1, 1, 1, ..., 1, 1, 1])"
      ]
     },
     "execution_count": 16,
     "metadata": {},
     "output_type": "execute_result"
    }
   ],
   "source": [
    "# Predicting the target variable\n",
    "Y_pred = dtc_model.predict(X_test)\n",
    "Y_pred"
   ]
  },
  {
   "cell_type": "code",
   "execution_count": 17,
   "metadata": {},
   "outputs": [
    {
     "data": {
      "text/plain": [
       "array([[0., 1., 0., 0., 0., 0.],\n",
       "       [0., 1., 0., 0., 0., 0.],\n",
       "       [0., 1., 0., 0., 0., 0.],\n",
       "       ...,\n",
       "       [0., 1., 0., 0., 0., 0.],\n",
       "       [0., 1., 0., 0., 0., 0.],\n",
       "       [0., 1., 0., 0., 0., 0.]])"
      ]
     },
     "execution_count": 17,
     "metadata": {},
     "output_type": "execute_result"
    }
   ],
   "source": [
    "Y_pred_proba = dtc_model.predict_proba(X_test)\n",
    "Y_pred_proba"
   ]
  },
  {
   "cell_type": "code",
   "execution_count": 18,
   "metadata": {},
   "outputs": [
    {
     "name": "stdout",
     "output_type": "stream",
     "text": [
      "int64\n",
      "int64\n"
     ]
    }
   ],
   "source": [
    "print(Y_test.dtype)\n",
    "print(Y_pred.dtype)"
   ]
  },
  {
   "cell_type": "code",
   "execution_count": 19,
   "metadata": {},
   "outputs": [
    {
     "name": "stdout",
     "output_type": "stream",
     "text": [
      "Number of unique classes in Y_test: 5\n"
     ]
    }
   ],
   "source": [
    "num_classes = len(np.unique(Y_test))\n",
    "print('Number of unique classes in Y_test:', num_classes)"
   ]
  },
  {
   "cell_type": "code",
   "execution_count": 20,
   "metadata": {},
   "outputs": [
    {
     "name": "stdout",
     "output_type": "stream",
     "text": [
      "Shape of Y_pred_proba: (2000, 6)\n"
     ]
    }
   ],
   "source": [
    "print('Shape of Y_pred_proba:', Y_pred_proba.shape)"
   ]
  },
  {
   "cell_type": "markdown",
   "metadata": {},
   "source": [
    "<h2>Model Evaluation</h2>"
   ]
  },
  {
   "cell_type": "markdown",
   "metadata": {},
   "source": [
    "<h3>1. Accuracy Score</h3>"
   ]
  },
  {
   "cell_type": "code",
   "execution_count": 21,
   "metadata": {},
   "outputs": [
    {
     "name": "stdout",
     "output_type": "stream",
     "text": [
      "Accuracy of the model: 0.97\n"
     ]
    }
   ],
   "source": [
    "# Calculating the accuracy of the model\n",
    "accuracy = accuracy_score(Y_test, Y_pred)\n",
    "print(\"Accuracy of the model:\", accuracy)"
   ]
  },
  {
   "cell_type": "markdown",
   "metadata": {},
   "source": [
    "<h3>2. ROC-AUC Score</h3>"
   ]
  },
  {
   "cell_type": "code",
   "execution_count": 22,
   "metadata": {},
   "outputs": [],
   "source": [
    "Y_pred_proba_filtered = normalize(Y_pred_proba, norm='l1', axis=1)"
   ]
  },
  {
   "cell_type": "code",
   "execution_count": 23,
   "metadata": {},
   "outputs": [
    {
     "name": "stdout",
     "output_type": "stream",
     "text": [
      "No rows with all zeros found in Y_pred_proba_filtered.\n"
     ]
    }
   ],
   "source": [
    "all_zero_rows = np.where(~Y_pred_proba_filtered.any(axis=1))[0]\n",
    "\n",
    "if len(all_zero_rows) > 0:\n",
    "    print(f'Found {len(all_zero_rows)} rows with all zeros in Y_pred_proba_filtered.')\n",
    "else:\n",
    "    print('No rows with all zeros found in Y_pred_proba_filtered.')"
   ]
  },
  {
   "cell_type": "code",
   "execution_count": 24,
   "metadata": {},
   "outputs": [],
   "source": [
    "mask = ~np.all(Y_pred_proba_filtered == 0, axis=1)\n",
    "Y_pred_proba_filtered = Y_pred_proba_filtered[mask]\n",
    "\n",
    "Y_test_np = Y_test.values\n",
    "\n",
    "mask_test = np.isin(np.arange(len(Y_test_np)), np.where(mask)[0])\n",
    "Y_test_np = Y_test_np[mask_test]"
   ]
  },
  {
   "cell_type": "code",
   "execution_count": null,
   "metadata": {},
   "outputs": [],
   "source": [
    "# Calculating the ROC-AUC score of the model\n",
    "roc_auc = roc_auc_score(Y_test_np, Y_pred_proba_filtered, multi_class='ovr', average='macro')\n",
    "print(\"ROC-AUC score of the model:\", roc_auc)"
   ]
  },
  {
   "cell_type": "markdown",
   "metadata": {},
   "source": [
    "-> The model's performance with an accuracy of 0.97 is highly impressive, indicating that it correctly classifies 97% of the instances. This high accuracy suggests the model is well-trained and effectively captures the underlying patterns in the dataset. \n",
    "<br>\n",
    "-> The ROC-AUC score can't get calculated. It is giving errors and I can't be able to fix it."
   ]
  },
  {
   "cell_type": "markdown",
   "metadata": {},
   "source": [
    "<hr>"
   ]
  }
 ],
 "metadata": {
  "kernelspec": {
   "display_name": "Python 3",
   "language": "python",
   "name": "python3"
  },
  "language_info": {
   "codemirror_mode": {
    "name": "ipython",
    "version": 3
   },
   "file_extension": ".py",
   "mimetype": "text/x-python",
   "name": "python",
   "nbconvert_exporter": "python",
   "pygments_lexer": "ipython3",
   "version": "3.12.3"
  }
 },
 "nbformat": 4,
 "nbformat_minor": 2
}
